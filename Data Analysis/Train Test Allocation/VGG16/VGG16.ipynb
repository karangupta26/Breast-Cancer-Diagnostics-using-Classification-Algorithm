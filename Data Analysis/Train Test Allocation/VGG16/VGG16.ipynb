{
 "cells": [
  {
   "cell_type": "code",
   "execution_count": 1,
   "metadata": {},
   "outputs": [],
   "source": [
    "import pandas as pd\n",
    "from scipy import stats\n",
    "import numpy as np"
   ]
  },
  {
   "cell_type": "code",
   "execution_count": 2,
   "metadata": {},
   "outputs": [],
   "source": [
    "train_path=\"A:\\\\Projects\\\\Major Project\\\\CNN New\\\\VGG16\\\\train\"\n",
    "test_path=\"A:\\\\Projects\\\\Major Project\\\\CNN New\\\\VGG16\\\\test\""
   ]
  },
  {
   "cell_type": "code",
   "execution_count": 3,
   "metadata": {},
   "outputs": [],
   "source": [
    "# Training Paths \n",
    "data_train=np.load(train_path+\"\\\\data_cnn_VGG16_train.npy\")\n",
    "filenames_train=np.load(train_path+\"\\\\data_filenames_VGG16_train.npy\")\n",
    "mag_train=np.load(train_path+\"\\\\data_mag_VGG16_train.npy\")\n",
    "cancerclass_train=np.load(train_path+\"\\\\data_cancerclass_VGG16_train.npy\")\n",
    "cancertype_train=np.load(train_path+\"\\\\data_cancertype_VGG16_train.npy\")\n",
    "\n",
    "# Testing Paths \n",
    "data_test=np.load(test_path+\"\\\\data_cnn_VGG16_test.npy\")\n",
    "filenames_test=np.load(test_path+\"\\\\data_filenames_VGG16_test.npy\")\n",
    "mag_test=np.load(test_path+\"\\\\data_mag_VGG16_test.npy\")\n",
    "cancerclass_test=np.load(test_path+\"\\\\data_cancerclass_VGG16_test.npy\")\n",
    "cancertype_test=np.load(test_path+\"\\\\data_cancertype_VGG16_test.npy\")"
   ]
  },
  {
   "cell_type": "code",
   "execution_count": 4,
   "metadata": {},
   "outputs": [],
   "source": [
    "# New Array as List\n",
    "new_data_test=[]\n",
    "new_filenames_test=[]\n",
    "new_mag_test=[]\n",
    "new_cancerclass_test=[]\n",
    "new_cancertype_test=[]\n",
    "\n",
    "#Counter\n",
    "C4011=0\n",
    "C10011=0\n",
    "C20011=0\n",
    "C40011=0\n",
    "\n",
    "C4012=0\n",
    "C10012=0\n",
    "C20012=0\n",
    "C40012=0\n",
    "\n",
    "C4013=0\n",
    "C10013=0\n",
    "C20013=0\n",
    "C40013=0\n",
    "\n",
    "C4014=0\n",
    "C10014=0\n",
    "C20014=0\n",
    "C40014=0\n",
    "\n",
    "C4021=0\n",
    "C10021=0\n",
    "C20021=0\n",
    "C40021=0\n",
    "\n",
    "C4022=0\n",
    "C10022=0\n",
    "C20022=0\n",
    "C40022=0\n",
    "\n",
    "C4023=0\n",
    "C10023=0\n",
    "C20023=0\n",
    "C40023=0\n",
    "\n",
    "C4024=0\n",
    "C10024=0\n",
    "C20024=0\n",
    "C40024=0\n",
    "\n",
    "\n",
    "\n",
    "index=[]\n",
    "\n",
    "#List as Set\n",
    "cancertype40=[11,12,13,14,21,22,23,24]\n",
    "cancertype100=[11,12,13,14,21,22,23,24]\n",
    "cancertype200=[11,12,13,14,21,22,23,24]\n",
    "cancertype400=[11,12,13,14,21,22,23,24]\n"
   ]
  },
  {
   "cell_type": "code",
   "execution_count": 5,
   "metadata": {},
   "outputs": [],
   "source": [
    "for i in range(0,len(cancertype_test)):\n",
    "    #print(type(cancertype40))\n",
    "    \n",
    "    if ((mag_test[i]==40) and (cancertype_test[i] in cancertype40) and (C4011<37 or C4012<37 or C4013<37 or C4014<37 or C4021<37 or C4022<37 or C4023<37 or C4024<37)):\n",
    "        #C40=C40+1\n",
    "        if (cancertype_test[i]==11):\n",
    "            C4011=C4011+1\n",
    "            \n",
    "        elif (cancertype_test[i]==12):\n",
    "            C4012=C4012+1\n",
    "            \n",
    "        elif (cancertype_test[i]==13):\n",
    "            C4013=C4013+1\n",
    "            \n",
    "        elif (cancertype_test[i]==14):\n",
    "            C4014=C4014+1\n",
    "            \n",
    "        elif (cancertype_test[i]==21):\n",
    "            C4021=C4021+1\n",
    "            \n",
    "        elif (cancertype_test[i]==22):\n",
    "            C4022=C4022+1\n",
    "            \n",
    "        elif (cancertype_test[i]==23):\n",
    "            C4023=C4023+1\n",
    "            \n",
    "        elif (cancertype_test[i]==24):\n",
    "            C4024=C4024+1\n",
    "            \n",
    "        new_data_test.append(data_test[i])\n",
    "        new_filenames_test.append(filenames_test[i])\n",
    "        new_mag_test.append(mag_test[i])\n",
    "        new_cancerclass_test.append(cancerclass_test[i])\n",
    "        new_cancertype_test.append(cancertype_test[i])\n",
    "        index.append(i)\n",
    "        \n",
    "    elif ((mag_test[i]==100) and (cancertype_test[i] in cancertype100) and (C10011<37 or C10012<37 or C10013<37 or C10014<37 or C10021<37 or C10022<37 or C10023<37 or C10024<37)):\n",
    "        #C40=C40+1\n",
    "        if (cancertype_test[i]==11):\n",
    "            C10011=C10011+1\n",
    "            \n",
    "        elif (cancertype_test[i]==12):\n",
    "            C10012=C10012+1\n",
    "            \n",
    "        elif (cancertype_test[i]==13):\n",
    "            C10013=C10013+1\n",
    "            \n",
    "        elif (cancertype_test[i]==14):\n",
    "            C10014=C10014+1\n",
    "            \n",
    "        elif (cancertype_test[i]==21):\n",
    "            C10021=C10021+1\n",
    "            \n",
    "        elif (cancertype_test[i]==22):\n",
    "            C10022=C10022+1\n",
    "            \n",
    "        elif (cancertype_test[i]==23):\n",
    "            C10023=C10023+1\n",
    "            \n",
    "        elif (cancertype_test[i]==24):\n",
    "            C10024=C10024+1\n",
    "            \n",
    "        new_data_test.append(data_test[i])\n",
    "        new_filenames_test.append(filenames_test[i])\n",
    "        new_mag_test.append(mag_test[i])\n",
    "        new_cancerclass_test.append(cancerclass_test[i])\n",
    "        new_cancertype_test.append(cancertype_test[i])\n",
    "        index.append(i)\n",
    "        \n",
    "    if ((mag_test[i]==200) and (cancertype_test[i] in cancertype200) and (C20011<37 or C20012<37 or C20013<37 or C20014<37 or C20021<37 or C20022<37 or C20023<37 or C20024<37)):\n",
    "        #C40=C40+1\n",
    "        if (cancertype_test[i]==11):\n",
    "            C20011=C20011+1\n",
    "            \n",
    "        elif (cancertype_test[i]==12):\n",
    "            C20012=C20012+1\n",
    "            \n",
    "        elif (cancertype_test[i]==13):\n",
    "            C20013=C20013+1\n",
    "            \n",
    "        elif (cancertype_test[i]==14):\n",
    "            C20014=C20014+1\n",
    "            \n",
    "        elif (cancertype_test[i]==21):\n",
    "            C20021=C20021+1\n",
    "            \n",
    "        elif (cancertype_test[i]==22):\n",
    "            C20022=C20022+1\n",
    "            \n",
    "        elif (cancertype_test[i]==23):\n",
    "            C20023=C20023+1\n",
    "            \n",
    "        elif (cancertype_test[i]==24):\n",
    "            C20024=C20024+1\n",
    "            \n",
    "        new_data_test.append(data_test[i])\n",
    "        new_filenames_test.append(filenames_test[i])\n",
    "        new_mag_test.append(mag_test[i])\n",
    "        new_cancerclass_test.append(cancerclass_test[i])\n",
    "        new_cancertype_test.append(cancertype_test[i])\n",
    "        index.append(i)\n",
    "        \n",
    "    if ((mag_test[i]==400) and (cancertype_test[i] in cancertype400) and (C40011<37 or C40012<37 or C40013<37 or C40014<37 or C40021<37 or C40022<37 or C40023<37 or C40024<37)):\n",
    "        #C40=C40+1\n",
    "        if (cancertype_test[i]==11):\n",
    "            C40011=C40011+1\n",
    "            \n",
    "        elif (cancertype_test[i]==12):\n",
    "            C40012=C40012+1\n",
    "            \n",
    "        elif (cancertype_test[i]==13):\n",
    "            C40013=C40013+1\n",
    "            \n",
    "        elif (cancertype_test[i]==14):\n",
    "            C40014=C40014+1\n",
    "            \n",
    "        elif (cancertype_test[i]==21):\n",
    "            C40021=C40021+1\n",
    "            \n",
    "        elif (cancertype_test[i]==22):\n",
    "            C40022=C40022+1\n",
    "            \n",
    "        elif (cancertype_test[i]==23):\n",
    "            C40023=C40023+1\n",
    "            \n",
    "        elif (cancertype_test[i]==24):\n",
    "            C40024=C40024+1\n",
    "            \n",
    "        new_data_test.append(data_test[i])\n",
    "        new_filenames_test.append(filenames_test[i])\n",
    "        new_mag_test.append(mag_test[i])\n",
    "        new_cancerclass_test.append(cancerclass_test[i])\n",
    "        new_cancertype_test.append(cancertype_test[i])\n",
    "        index.append(i)\n",
    "        \n",
    "    if (C4011==37 and 11 in cancertype40):\n",
    "        cancertype40.remove(11)\n",
    "        \n",
    "    if (C4012==37 and 12 in cancertype40):\n",
    "        cancertype40.remove(12)\n",
    "        \n",
    "    if (C4013==37 and 13 in cancertype40): \n",
    "        cancertype40.remove(13)\n",
    "        \n",
    "    if (C4014==37 and 14 in cancertype40):\n",
    "        cancertype40.remove(14)\n",
    "        \n",
    "    if (C4021==37 and 21 in cancertype40):\n",
    "        cancertype40.remove(21)\n",
    "        \n",
    "    if (C4022==37 and 22 in cancertype40):\n",
    "        cancertype40.remove(22)\n",
    "        \n",
    "    if (C4023==37 and 23 in cancertype40): \n",
    "        cancertype40.remove(23)\n",
    "        \n",
    "    if (C4024==37 and 24 in cancertype40):\n",
    "        cancertype40.remove(24)\n",
    "        \n",
    "    \n",
    "    if (C10011==37 and 11 in cancertype100):\n",
    "        cancertype100.remove(11)\n",
    "        \n",
    "    if (C10012==37 and 12 in cancertype100):\n",
    "        cancertype100.remove(12)\n",
    "        \n",
    "    if (C10013==37 and 13 in cancertype100): \n",
    "        cancertype100.remove(13)\n",
    "        \n",
    "    if (C10014==37 and 14 in cancertype100):\n",
    "        cancertype100.remove(14)\n",
    "        \n",
    "    if (C10021==37 and 21 in cancertype100):\n",
    "        cancertype100.remove(21)\n",
    "        \n",
    "    if (C10022==37 and 22 in cancertype100):\n",
    "        cancertype100.remove(22)\n",
    "        \n",
    "    if (C10023==37 and 23 in cancertype100): \n",
    "        cancertype100.remove(23)\n",
    "        \n",
    "    if (C10024==37 and 24 in cancertype100):\n",
    "        cancertype100.remove(24)\n",
    "        \n",
    "\n",
    "    if (C20011==37 and 11 in cancertype200):\n",
    "        cancertype200.remove(11)\n",
    "        \n",
    "    if (C20012==37 and 12 in cancertype200):\n",
    "        cancertype200.remove(12)\n",
    "        \n",
    "    if (C20013==37 and 13 in cancertype200): \n",
    "        cancertype200.remove(13)\n",
    "        \n",
    "    if (C20014==37 and 14 in cancertype200):\n",
    "        cancertype200.remove(14)\n",
    "        \n",
    "    if (C20021==37 and 21 in cancertype200):\n",
    "        cancertype200.remove(21)\n",
    "        \n",
    "    if (C20022==37 and 22 in cancertype200):\n",
    "        cancertype200.remove(22)\n",
    "        \n",
    "    if (C20023==37 and 23 in cancertype200): \n",
    "        cancertype200.remove(23)\n",
    "        \n",
    "    if (C20024==37 and 24 in cancertype200):\n",
    "        cancertype200.remove(24)\n",
    "        \n",
    "        \n",
    "    if (C40011==37 and 11 in cancertype400):\n",
    "        cancertype400.remove(11)\n",
    "        \n",
    "    if (C40012==37 and 12 in cancertype400):\n",
    "        cancertype400.remove(12)\n",
    "        \n",
    "    if (C40013==37 and 13 in cancertype400): \n",
    "        cancertype400.remove(13)\n",
    "        \n",
    "    if (C40014==37 and 14 in cancertype400):\n",
    "        cancertype400.remove(14)\n",
    "        \n",
    "    if (C40021==37 and 21 in cancertype400):\n",
    "        cancertype400.remove(21)\n",
    "        \n",
    "    if (C40022==37 and 22 in cancertype400):\n",
    "        cancertype400.remove(22)\n",
    "        \n",
    "    if (C40023==37 and 23 in cancertype400): \n",
    "        cancertype400.remove(23)\n",
    "        \n",
    "    if (C40024==37 and 24 in cancertype400):\n",
    "        cancertype400.remove(24)\n",
    "        \n",
    "        "
   ]
  },
  {
   "cell_type": "code",
   "execution_count": 6,
   "metadata": {},
   "outputs": [
    {
     "name": "stderr",
     "output_type": "stream",
     "text": [
      "c:\\users\\karan gupta\\appdata\\local\\programs\\python\\python37\\lib\\site-packages\\ipykernel_launcher.py:1: DeprecationWarning: `itemfreq` is deprecated!\n",
      "`itemfreq` is deprecated and will be removed in a future version. Use instead `np.unique(..., return_counts=True)`\n",
      "  \"\"\"Entry point for launching an IPython kernel.\n"
     ]
    },
    {
     "data": {
      "text/plain": [
       "array([[ 11, 148],\n",
       "       [ 12, 148],\n",
       "       [ 13, 148],\n",
       "       [ 14, 148],\n",
       "       [ 21, 148],\n",
       "       [ 22, 148],\n",
       "       [ 23, 148],\n",
       "       [ 24, 148]], dtype=int64)"
      ]
     },
     "execution_count": 6,
     "metadata": {},
     "output_type": "execute_result"
    }
   ],
   "source": [
    "stats.itemfreq(new_cancertype_test)"
   ]
  },
  {
   "cell_type": "code",
   "execution_count": 7,
   "metadata": {},
   "outputs": [
    {
     "name": "stderr",
     "output_type": "stream",
     "text": [
      "c:\\users\\karan gupta\\appdata\\local\\programs\\python\\python37\\lib\\site-packages\\ipykernel_launcher.py:1: DeprecationWarning: `itemfreq` is deprecated!\n",
      "`itemfreq` is deprecated and will be removed in a future version. Use instead `np.unique(..., return_counts=True)`\n",
      "  \"\"\"Entry point for launching an IPython kernel.\n"
     ]
    },
    {
     "data": {
      "text/plain": [
       "array([[ 40, 296],\n",
       "       [100, 296],\n",
       "       [200, 296],\n",
       "       [400, 296]], dtype=int64)"
      ]
     },
     "execution_count": 7,
     "metadata": {},
     "output_type": "execute_result"
    }
   ],
   "source": [
    "stats.itemfreq(new_mag_test)"
   ]
  },
  {
   "cell_type": "code",
   "execution_count": null,
   "metadata": {},
   "outputs": [],
   "source": []
  },
  {
   "cell_type": "code",
   "execution_count": 8,
   "metadata": {},
   "outputs": [
    {
     "name": "stdout",
     "output_type": "stream",
     "text": [
      "1184\n",
      "1184\n",
      "1184\n",
      "1184\n",
      "1184\n"
     ]
    }
   ],
   "source": [
    "print(len(new_data_test))\n",
    "print(len(new_filenames_test))\n",
    "print(len(new_mag_test))\n",
    "print(len(new_cancerclass_test))\n",
    "print(len(new_cancertype_test))"
   ]
  },
  {
   "cell_type": "code",
   "execution_count": 9,
   "metadata": {},
   "outputs": [
    {
     "name": "stdout",
     "output_type": "stream",
     "text": [
      "1184\n"
     ]
    }
   ],
   "source": [
    "print(len(index))"
   ]
  },
  {
   "cell_type": "code",
   "execution_count": 10,
   "metadata": {},
   "outputs": [
    {
     "name": "stdout",
     "output_type": "stream",
     "text": [
      "[0, 1, 2, 3, 4, 5, 6, 7, 8, 9, 10, 11, 12, 13, 14, 15, 16, 17, 18, 19, 20, 21, 22, 23, 24, 25, 26, 27, 28, 29, 30, 31, 32, 33, 34, 35, 36, 37, 38, 39, 40, 41, 42, 43, 44, 45, 46, 47, 48, 49, 50, 51, 52, 53, 54, 55, 56, 57, 58, 59, 60, 61, 62, 63, 64, 65, 66, 67, 68, 69, 70, 71, 72, 73, 74, 75, 76, 77, 78, 79, 80, 81, 82, 83, 84, 85, 86, 87, 88, 89, 90, 91, 92, 93, 94, 95, 96, 97, 98, 99, 100, 101, 102, 103, 104, 105, 106, 107, 108, 109, 110, 111, 112, 113, 114, 115, 116, 117, 118, 119, 120, 121, 122, 123, 124, 125, 126, 127, 128, 129, 130, 131, 132, 143, 144, 145, 146, 147, 159, 160, 174, 175, 176, 177, 178, 179, 180, 181, 191, 192, 193, 194, 195, 196, 197, 198, 199, 200, 201, 202, 203, 204, 205, 206, 207, 208, 209, 210, 211, 212, 213, 214, 215, 216, 217, 218, 219, 220, 221, 222, 223, 224, 225, 226, 227, 228, 229, 230, 231, 232, 233, 234, 235, 236, 237, 238, 239, 240, 241, 242, 243, 244, 245, 246, 247, 248, 249, 250, 251, 252, 253, 254, 255, 256, 257, 258, 259, 260, 261, 262, 263, 264, 265, 266, 267, 268, 269, 270, 271, 272, 273, 274, 275, 276, 277, 278, 279, 280, 281, 282, 283, 284, 285, 286, 287, 288, 289, 290, 291, 292, 293, 294, 295, 296, 297, 298, 299, 300, 301, 302, 303, 304, 305, 306, 307, 308, 309, 310, 311, 312, 313, 314, 315, 316, 317, 318, 319, 320, 321, 322, 323, 324, 325, 326, 327, 328, 329, 330, 331, 332, 333, 378, 379, 380, 381, 382, 522, 523, 524, 525, 526, 527, 528, 529, 530, 531, 532, 533, 534, 535, 536, 537, 538, 539, 540, 541, 542, 543, 544, 545, 546, 547, 548, 549, 550, 551, 552, 553, 554, 555, 556, 557, 558, 588, 589, 590, 591, 592, 593, 594, 595, 596, 597, 598, 599, 600, 601, 602, 603, 604, 605, 606, 607, 608, 609, 610, 611, 612, 613, 614, 615, 616, 617, 618, 619, 620, 621, 622, 623, 624, 640, 641, 642, 643, 644, 645, 646, 647, 648, 649, 650, 651, 652, 653, 654, 655, 656, 657, 658, 659, 660, 661, 662, 663, 664, 665, 666, 667, 668, 669, 670, 671, 672, 673, 674, 675, 676, 698, 699, 700, 701, 702, 703, 704, 705, 706, 707, 708, 709, 710, 711, 712, 713, 714, 715, 716, 717, 718, 719, 720, 721, 722, 723, 724, 725, 726, 727, 728, 729, 730, 731, 732, 733, 734, 757, 758, 759, 760, 761, 762, 763, 764, 765, 766, 767, 768, 769, 770, 771, 772, 773, 774, 775, 776, 777, 778, 779, 780, 781, 782, 783, 784, 785, 786, 787, 788, 789, 790, 791, 792, 793, 794, 795, 796, 797, 798, 799, 800, 801, 802, 803, 804, 805, 806, 807, 808, 809, 810, 811, 812, 813, 814, 815, 816, 817, 818, 819, 820, 821, 822, 823, 824, 825, 826, 827, 828, 829, 830, 831, 843, 844, 845, 846, 847, 848, 849, 850, 851, 852, 853, 854, 855, 856, 857, 858, 859, 860, 861, 862, 863, 864, 865, 866, 867, 878, 879, 880, 881, 882, 883, 884, 885, 886, 887, 888, 889, 890, 891, 892, 893, 894, 895, 896, 897, 898, 899, 900, 901, 902, 917, 918, 919, 920, 921, 922, 923, 924, 925, 926, 927, 928, 929, 930, 931, 932, 933, 934, 935, 936, 937, 938, 939, 1007, 1008, 1009, 1010, 1011, 1012, 1013, 1014, 1015, 1016, 1017, 1018, 1019, 1020, 1021, 1022, 1023, 1024, 1025, 1026, 1027, 1028, 1029, 1030, 1031, 1032, 1033, 1034, 1035, 1036, 1037, 1038, 1039, 1040, 1041, 1042, 1043, 1044, 1045, 1046, 1047, 1048, 1049, 1050, 1051, 1052, 1053, 1054, 1055, 1056, 1057, 1058, 1059, 1060, 1061, 1062, 1063, 1064, 1065, 1066, 1067, 1068, 1069, 1070, 1071, 1072, 1073, 1074, 1075, 1076, 1077, 1078, 1079, 1080, 1081, 1082, 1083, 1084, 1085, 1086, 1087, 1088, 1089, 1090, 1091, 1092, 1093, 1094, 1095, 1096, 1097, 1098, 1099, 1100, 1101, 1102, 1103, 1104, 1105, 1106, 1107, 1108, 1109, 1110, 1111, 1112, 1113, 1114, 1115, 1130, 1131, 1132, 1133, 1134, 1135, 1136, 1137, 1138, 1139, 1140, 1141, 1142, 1158, 1159, 1160, 1161, 1162, 1163, 1164, 1165, 1166, 1167, 1168, 1169, 1185, 1186, 1187, 1188, 1189, 1190, 1191, 1192, 1193, 1194, 1195, 1196, 1197, 1198, 2145, 2146, 2147, 2148, 2149, 2150, 2151, 2152, 2153, 2154, 2155, 2156, 2157, 2158, 2159, 2160, 2161, 2162, 2163, 2164, 2165, 2166, 2167, 2168, 2169, 2170, 2171, 2172, 2173, 2174, 2175, 2176, 2177, 2178, 2179, 2180, 2181, 2182, 2183, 2184, 2185, 2186, 2187, 2188, 2189, 2190, 2191, 2192, 2193, 2194, 2195, 2196, 2197, 2198, 2199, 2200, 2201, 2202, 2203, 2204, 2205, 2206, 2207, 2208, 2209, 2210, 2211, 2212, 2213, 2214, 2215, 2216, 2217, 2218, 2219, 2220, 2221, 2222, 2223, 2224, 2225, 2226, 2227, 2228, 2229, 2230, 2231, 2232, 2233, 2234, 2235, 2236, 2237, 2238, 2239, 2240, 2241, 2242, 2243, 2244, 2245, 2246, 2247, 2248, 2249, 2250, 2251, 2252, 2253, 2254, 2255, 2256, 2257, 2258, 2259, 2260, 2261, 2262, 2263, 2264, 2265, 2266, 2267, 2268, 2269, 2270, 2271, 2322, 2323, 2324, 2325, 2326, 2377, 2378, 2379, 2380, 2381, 2428, 2429, 2430, 2431, 2432, 2433, 2434, 2435, 2436, 2437, 2438, 2468, 2469, 2470, 2471, 2472, 2473, 2474, 2475, 2476, 2477, 2478, 2479, 2480, 2481, 2482, 2483, 2484, 2485, 2486, 2487, 2488, 2489, 2490, 2491, 2492, 2493, 2494, 2495, 2496, 2497, 2498, 2499, 2500, 2501, 2502, 2503, 2504, 2508, 2509, 2510, 2511, 2512, 2513, 2514, 2515, 2516, 2517, 2518, 2519, 2520, 2521, 2522, 2523, 2524, 2525, 2526, 2527, 2528, 2529, 2530, 2531, 2532, 2533, 2534, 2535, 2536, 2537, 2538, 2539, 2540, 2541, 2542, 2543, 2544, 2545, 2546, 2547, 2548, 2549, 2550, 2551, 2552, 2553, 2554, 2555, 2556, 2557, 2558, 2559, 2560, 2561, 2562, 2563, 2564, 2565, 2566, 2567, 2568, 2569, 2570, 2571, 2572, 2573, 2574, 2575, 2576, 2577, 2578, 2579, 2580, 2581, 2582, 2583, 2584, 2585, 2602, 2603, 2604, 2605, 2606, 2607, 2608, 2609, 2610, 2611, 2612, 2613, 2614, 2615, 2618, 2619, 2620, 2621, 2622, 2623, 2624, 2625, 2634, 2635, 2636, 2637, 2638, 2639, 2640, 2641, 2642, 2643, 2644, 2712, 2713, 2714, 2715, 2716, 2717, 2718, 2719, 2720, 2721, 2722, 2723, 2724, 2725, 2726, 2727, 2728, 2729, 2730, 2731, 2732, 2733, 2734, 2735, 2736, 2737, 2738, 2739, 2740, 2741, 2742, 2743, 2744, 2745, 2746, 2747, 2748, 2749, 2750, 2751, 2752, 2753, 2754, 2755, 2756, 2757, 2758, 2759, 2760, 2761, 2762, 2763, 2764, 2765, 2766, 2767, 2768, 2769, 2770, 2771, 2772, 2773, 2774, 2775, 2776, 2777, 2778, 2779, 2780, 2781, 2782, 2783, 2784, 2785, 2786, 2787, 2788, 2789, 2790, 2791, 2792, 2793, 2794, 2803, 2804, 2805, 2806, 2807, 2808, 2809, 2810, 2811, 2812, 2813, 2814, 2815, 2816, 2817, 2818, 2819, 2820, 2821, 2822, 2823, 2824, 2825, 2835, 2836, 2837, 2838, 2839, 2840, 2841, 2842, 2843, 2844, 2845, 2846, 2847, 2848, 2849, 2850, 2851, 2852, 2853, 2854, 2865, 2866, 2867, 2868, 2869, 2870, 2871, 2872, 2873, 2874, 2875, 2876, 2877, 2878, 2879, 2880, 2881, 2882, 2883, 2884, 2885, 2886]\n"
     ]
    }
   ],
   "source": [
    "print(index)"
   ]
  },
  {
   "cell_type": "code",
   "execution_count": 11,
   "metadata": {},
   "outputs": [],
   "source": [
    "data_test=np.delete(data_test,index,axis=0)\n",
    "filenames_test=np.delete(filenames_test,index)\n",
    "mag_test=np.delete(mag_test,index)\n",
    "cancerclass_test=np.delete(cancerclass_test,index)\n",
    "cancertype_test=np.delete(cancertype_test,index)"
   ]
  },
  {
   "cell_type": "code",
   "execution_count": 12,
   "metadata": {},
   "outputs": [
    {
     "name": "stdout",
     "output_type": "stream",
     "text": [
      "1716\n",
      "1716\n",
      "1716\n",
      "1716\n",
      "1716\n"
     ]
    }
   ],
   "source": [
    "print(len(data_test))\n",
    "print(len(filenames_test))\n",
    "print(len(mag_test))\n",
    "print(len(cancerclass_test))\n",
    "print(len(cancertype_test))"
   ]
  },
  {
   "cell_type": "code",
   "execution_count": 13,
   "metadata": {},
   "outputs": [
    {
     "data": {
      "text/plain": [
       "numpy.ndarray"
      ]
     },
     "execution_count": 13,
     "metadata": {},
     "output_type": "execute_result"
    }
   ],
   "source": [
    "type(data_test)"
   ]
  },
  {
   "cell_type": "code",
   "execution_count": 14,
   "metadata": {},
   "outputs": [],
   "source": [
    "data_test=np.array(data_test)\n",
    "filenames_test=np.array(filenames_test)\n",
    "mag_test=np.array(mag_test)\n",
    "cancerclass_test=np.array(cancerclass_test)\n",
    "cancertype_test=np.array(cancertype_test)"
   ]
  },
  {
   "cell_type": "code",
   "execution_count": 15,
   "metadata": {},
   "outputs": [],
   "source": [
    "data_train=np.concatenate((data_train,data_test),axis=0)\n",
    "filenames_train=np.concatenate((filenames_train,filenames_test))\n",
    "mag_train=np.concatenate((mag_train,mag_test))\n",
    "cancerclass_train=np.concatenate((cancerclass_train,cancerclass_test))\n",
    "cancertype_train=np.concatenate((cancertype_train,cancertype_test))"
   ]
  },
  {
   "cell_type": "code",
   "execution_count": 16,
   "metadata": {},
   "outputs": [
    {
     "name": "stdout",
     "output_type": "stream",
     "text": [
      "6716\n",
      "6716\n",
      "6716\n",
      "6716\n",
      "6716\n"
     ]
    }
   ],
   "source": [
    "print(len(data_train))\n",
    "print(len(filenames_train))\n",
    "print(len(mag_train))\n",
    "print(len(cancerclass_train))\n",
    "print(len(cancertype_train))"
   ]
  },
  {
   "cell_type": "code",
   "execution_count": 19,
   "metadata": {},
   "outputs": [],
   "source": [
    "np.save(train_path+\"\\\\data_cnn_VGG16_train.npy\",data_train)\n",
    "np.save(train_path+\"\\\\data_filenames_VGG16_train.npy\",filenames_train)\n",
    "np.save(train_path+\"\\\\data_mag_VGG16_train.npy\",mag_train)\n",
    "np.save(train_path+\"\\\\data_cancerclass_VGG16_train.npy\",cancerclass_train)\n",
    "np.save(train_path+\"\\\\data_cancertype_VGG16_train.npy\",cancertype_train)"
   ]
  },
  {
   "cell_type": "code",
   "execution_count": null,
   "metadata": {},
   "outputs": [],
   "source": [
    "np.save(test_path+\"\\\\data_cnn_VGG16_est.npy\",data_train)\n",
    "np.save(test_path+\"\\\\data_filenames_VGG16_train.npy\",filenames_train)\n",
    "np.save(test_path+\"\\\\data_mag_VGG16_train.npy\",mag_train)\n",
    "np.save(test_path+\"\\\\data_cancerclass_VGG16_train.npy\",cancerclass_train)\n",
    "np.save(test_path+\"\\\\data_cancertype_VGG16_train.npy\",cancertype_train)"
   ]
  },
  {
   "cell_type": "code",
   "execution_count": null,
   "metadata": {},
   "outputs": [],
   "source": []
  }
 ],
 "metadata": {
  "kernelspec": {
   "display_name": "Python 3",
   "language": "python",
   "name": "python3"
  },
  "language_info": {
   "codemirror_mode": {
    "name": "ipython",
    "version": 3
   },
   "file_extension": ".py",
   "mimetype": "text/x-python",
   "name": "python",
   "nbconvert_exporter": "python",
   "pygments_lexer": "ipython3",
   "version": "3.7.2"
  }
 },
 "nbformat": 4,
 "nbformat_minor": 2
}
