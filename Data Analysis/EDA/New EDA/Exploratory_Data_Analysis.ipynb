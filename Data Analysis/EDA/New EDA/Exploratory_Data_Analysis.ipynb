{
 "cells": [
  {
   "cell_type": "markdown",
   "metadata": {},
   "source": [
    "# <center>Exploratory Data Analysis-BreakHis Dataset</center>\n",
    "#### <center>March 24,2019</center>"
   ]
  },
  {
   "cell_type": "markdown",
   "metadata": {},
   "source": [
    "# <b>[1] About Data</b>\n",
    "\n",
    "<p>The dataset which we are going to use is BreakHis dataset caontainin 7909 histopathical breast cancer sample images from 82 patients respectively.</p>\n",
    "<b> REPRESENTATION OF DATASET IN PROJECT IS AS FOLLOWS-</b>\n",
    "<ol>\n",
    "    <dl><b><i>1. Cancer Class</i></b>\n",
    "              <dt>1.1. Benign</dt>\n",
    "              <dd>This Class is represented by Integer-1</dd>\n",
    "              <dt>1.2. Malignant</dt>\n",
    "              <dd>This Class is represented by Integer-2</dd>\n",
    "    </dl>\n",
    "    <dl><i><b>2. Cancer Type</b></i>\n",
    "              <dt>2.1 Benign-A</dt>\n",
    "              <dd>Benign-A represents Adenosis.This Class is represented by Integer-11</dd>\n",
    "              <dt>2.2 Benign-FA</dt>\n",
    "              <dd>Benign-FA represents Fibro Adenoma.This Class is represented by Integer-12</dd>\n",
    "              <dt>2.3 Benign-TA</dt>\n",
    "              <dd>Benign-TA represents Tubulor Adenoma.This Class is represented by Integer-13</dd>\n",
    "              <dt>2.4 Benign-PT</dt>\n",
    "              <dd>Benign-PT represents Phyllodes Tumor.This Class is represented by Integer-14</dd>\n",
    "              <dt>2.5. Malignant-DC</dt>\n",
    "              <dd>Malignant-DC represents Ductol Carinoma.This Class is represented by Integer-21</dd>\n",
    "              <dt>2.6. Malignant-LC</dt>\n",
    "              <dd>Malignant-LC represents Lobular Carinoma.This Class is represented by Integer-22</dd>\n",
    "              <dt>2.7. Malignant-MC</dt>\n",
    "              <dd>Malignant-Mc represents Mucious Carinoma.This Class is represented by Integer-23</dd>\n",
    "              <dt>2.8. Malignant-PC</dt>\n",
    "              <dd>Malignant-PC represents Pappillary Carinoma.This Class is represented by Integer-24</dd>\n",
    "    </dl>\n",
    "    <dl><b><i>3. Magnification</i></b>\n",
    "              <dt>3.1. 40X  - 40</dt>\n",
    "              <dt>3.2. 100X - 100</dt>\n",
    "              <dt>3.3. 200X - 200</dt>\n",
    "              <dt>3.4. 400X - 400</dt>\n",
    "    </dl>\n",
    "</ol>\n",
    "\n",
    "<b>Note -</b><p>After Each visualization some counts are represented for elaborations of plots which are used for distribution.</p>\n"
   ]
  },
  {
   "cell_type": "markdown",
   "metadata": {},
   "source": [
    "# <b>Pre-Exploratory Data Analysis<b>"
   ]
  },
  {
   "cell_type": "markdown",
   "metadata": {},
   "source": [
    "<b>Import Library</b>"
   ]
  },
  {
   "cell_type": "code",
   "execution_count": 1,
   "metadata": {},
   "outputs": [],
   "source": [
    "import pandas as pd\n",
    "import numpy as np\n",
    "import seaborn as sb\n",
    "sb.set(style=\"darkgrid\")\n",
    "import matplotlib.pyplot as plt"
   ]
  },
  {
   "cell_type": "markdown",
   "metadata": {},
   "source": [
    "<b>Loading Numpy Array</b>"
   ]
  },
  {
   "cell_type": "code",
   "execution_count": 2,
   "metadata": {},
   "outputs": [],
   "source": [
    "# Train Arrays\n",
    "data_cancerclass_train=np.load(\"train/data_cancerclass_train.npy\")\n",
    "data_cancertype_train=np.load(\"train/data_cancertype_train.npy\")\n",
    "data_mag_train=np.load(\"train/data_mag_train.npy\")\n",
    "# Test Arrays\n",
    "data_cancerclass_test=np.load(\"test/data_cancerclass_test.npy\")\n",
    "data_cancertype_test=np.load(\"test/data_cancertype_test.npy\")\n",
    "data_mag_test=np.load(\"test/data_mag_test.npy\")"
   ]
  },
  {
   "cell_type": "markdown",
   "metadata": {},
   "source": [
    "# <b>[2] Train Arrays Visualization</b>"
   ]
  },
  {
   "cell_type": "code",
   "execution_count": 3,
   "metadata": {},
   "outputs": [],
   "source": [
    "train_df=pd.DataFrame({'Cancer Class':data_cancerclass_train,\n",
    "                      'Cancer Type':data_cancertype_train,\n",
    "                      'Magnification':data_mag_train})"
   ]
  },
  {
   "cell_type": "markdown",
   "metadata": {},
   "source": [
    "### <b>[2.1] Cancer Class</b>"
   ]
  },
  {
   "cell_type": "code",
   "execution_count": 4,
   "metadata": {},
   "outputs": [
    {
     "data": {
      "image/png": "[encoded data removed]",
      "text/plain": [
       "<Figure size 432x288 with 1 Axes>"
      ]
     },
     "metadata": {
      "needs_background": "light"
     },
     "output_type": "display_data"
    }
   ],
   "source": [
    "ax = sb.countplot(x=\"Cancer Class\", data=train_df)\n",
    "fig=ax.get_figure()\n",
    "fig.savefig(\"Train Cancer Class.png\")\n",
    "for p in ax.patches:\n",
    "    x=p.get_bbox().get_points()[:,0]\n",
    "    y=p.get_bbox().get_points()[1,1]\n",
    "    ax.annotate(y,(x.mean(), y),ha='center', va='bottom')"
   ]
  },
  {
   "cell_type": "code",
   "execution_count": 5,
   "metadata": {},
   "outputs": [
    {
     "name": "stdout",
     "output_type": "stream",
     "text": [
      "              Cancer Type  Magnification\n",
      "Cancer Class                            \n",
      "1                    1683           1683\n",
      "2                    4637           4637\n"
     ]
    }
   ],
   "source": [
    "print(train_df.groupby(\"Cancer Class\").count())"
   ]
  },
  {
   "cell_type": "markdown",
   "metadata": {},
   "source": [
    "### <b>[2.3] Cancer Type</b>"
   ]
  },
  {
   "cell_type": "code",
   "execution_count": 6,
   "metadata": {},
   "outputs": [
    {
     "data": {
      "image/png": "[encoded data removed]",
      "text/plain": [
       "<Figure size 426.925x360 with 1 Axes>"
      ]
     },
     "metadata": {
      "needs_background": "light"
     },
     "output_type": "display_data"
    }
   ],
   "source": [
    "ax = sb.catplot(x=\"Cancer Class\",hue=\"Cancer Type\", data=train_df,kind=\"count\")\n",
    "ax.savefig(\"Train Cancer Class with cancer type.png\")"
   ]
  },
  {
   "cell_type": "code",
   "execution_count": 7,
   "metadata": {},
   "outputs": [
    {
     "name": "stdout",
     "output_type": "stream",
     "text": [
      "             Cancer Class  Magnification\n",
      "Cancer Type                             \n",
      "11                    252            252\n",
      "12                    813            813\n",
      "13                    251            251\n",
      "14                    367            367\n",
      "21                   3250           3250\n",
      "22                    425            425\n",
      "23                    591            591\n",
      "24                    371            371\n"
     ]
    }
   ],
   "source": [
    "print(train_df.groupby(\"Cancer Type\").count())"
   ]
  },
  {
   "cell_type": "markdown",
   "metadata": {},
   "source": [
    "### <b>[2.3] Magnification</b>"
   ]
  },
  {
   "cell_type": "code",
   "execution_count": 8,
   "metadata": {},
   "outputs": [
    {
     "data": {
      "image/png": "[encoded data removed]",
      "text/plain": [
       "<Figure size 432x288 with 1 Axes>"
      ]
     },
     "metadata": {
      "needs_background": "light"
     },
     "output_type": "display_data"
    }
   ],
   "source": [
    "ax=sb.countplot(y=\"Magnification\", data=train_df)\n",
    "fig=ax.get_figure()\n",
    "fig.savefig(\"Train Magnification.png\")"
   ]
  },
  {
   "cell_type": "code",
   "execution_count": 9,
   "metadata": {},
   "outputs": [
    {
     "name": "stdout",
     "output_type": "stream",
     "text": [
      "               Cancer Class  Cancer Type\n",
      "Magnification                           \n",
      "40                     1596         1596\n",
      "100                    1687         1687\n",
      "200                    1617         1617\n",
      "400                    1420         1420\n"
     ]
    }
   ],
   "source": [
    "print(train_df.groupby(\"Magnification\").count())"
   ]
  },
  {
   "cell_type": "markdown",
   "metadata": {},
   "source": [
    "### <b>[2.4] Cancer Class Data Distribution</b>"
   ]
  },
  {
   "cell_type": "code",
   "execution_count": 10,
   "metadata": {},
   "outputs": [
    {
     "data": {
      "image/png": "[encoded data removed]",
      "text/plain": [
       "<Figure size 432x288 with 1 Axes>"
      ]
     },
     "metadata": {
      "needs_background": "light"
     },
     "output_type": "display_data"
    }
   ],
   "source": [
    "ax=sb.countplot(x=\"Magnification\",hue=\"Cancer Class\", data=train_df)\n",
    "fig=ax.get_figure()\n",
    "fig.savefig(\"Train Magnification in Train Numpy.png\")"
   ]
  },
  {
   "cell_type": "code",
   "execution_count": 11,
   "metadata": {},
   "outputs": [
    {
     "name": "stdout",
     "output_type": "stream",
     "text": [
      "                            Cancer Type\n",
      "Cancer Class Magnification             \n",
      "1            40                     424\n",
      "             100                    446\n",
      "             200                    424\n",
      "             400                    389\n",
      "2            40                    1172\n",
      "             100                   1241\n",
      "             200                   1193\n",
      "             400                   1031\n"
     ]
    }
   ],
   "source": [
    "print(train_df.groupby([\"Cancer Class\",\"Magnification\"]).count())"
   ]
  },
  {
   "cell_type": "markdown",
   "metadata": {},
   "source": [
    "### <b>[2.5] Train Data Distribution</b>"
   ]
  },
  {
   "cell_type": "code",
   "execution_count": 12,
   "metadata": {},
   "outputs": [
    {
     "data": {
      "image/png": "[encoded data removed]",
      "text/plain": [
       "<Figure size 786.925x360 with 2 Axes>"
      ]
     },
     "metadata": {
      "needs_background": "light"
     },
     "output_type": "display_data"
    }
   ],
   "source": [
    "ax= sb.catplot(x=\"Magnification\", hue=\"Cancer Type\", col=\"Cancer Class\",data=train_df, kind=\"count\")\n",
    "ax.savefig(\"Train Cancer Type with Magnification using Cancer Class.png\")"
   ]
  },
  {
   "cell_type": "code",
   "execution_count": 13,
   "metadata": {},
   "outputs": [
    {
     "name": "stdout",
     "output_type": "stream",
     "text": [
      "                           Cancer Class\n",
      "Cancer Type Magnification              \n",
      "11          40                       64\n",
      "            100                      66\n",
      "            200                      63\n",
      "            400                      59\n",
      "12          40                      202\n",
      "            100                     210\n",
      "            200                     214\n",
      "            400                     187\n",
      "13          40                       59\n",
      "            100                      70\n",
      "            200                      58\n",
      "            400                      64\n",
      "14          40                       99\n",
      "            100                     100\n",
      "            200                      89\n",
      "            400                      79\n",
      "21          40                      813\n",
      "            100                     853\n",
      "            200                     846\n",
      "            400                     738\n",
      "22          40                      106\n",
      "            100                     120\n",
      "            200                     113\n",
      "            400                      86\n",
      "23          40                      155\n",
      "            100                     171\n",
      "            200                     146\n",
      "            400                     119\n",
      "24          40                       98\n",
      "            100                      97\n",
      "            200                      88\n",
      "            400                      88\n"
     ]
    }
   ],
   "source": [
    "print(train_df.groupby([\"Cancer Type\",\"Magnification\"]).count())"
   ]
  },
  {
   "cell_type": "markdown",
   "metadata": {},
   "source": [
    "# <b>[3] Test Arrays Visualization</b>"
   ]
  },
  {
   "cell_type": "code",
   "execution_count": 14,
   "metadata": {},
   "outputs": [],
   "source": [
    "test_df=pd.DataFrame({'Cancer Class':data_cancerclass_test,\n",
    "                      'Cancer Type':data_cancertype_test,\n",
    "                      'Magnification':data_mag_test})"
   ]
  },
  {
   "cell_type": "markdown",
   "metadata": {},
   "source": [
    "### <b>[3.1] Cancer Class</b>"
   ]
  },
  {
   "cell_type": "code",
   "execution_count": 15,
   "metadata": {},
   "outputs": [
    {
     "data": {
      "image/png": "[encoded data removed]",
      "text/plain": [
       "<Figure size 432x288 with 1 Axes>"
      ]
     },
     "metadata": {
      "needs_background": "light"
     },
     "output_type": "display_data"
    }
   ],
   "source": [
    "ax = sb.countplot(x=\"Cancer Class\", data=test_df)\n",
    "fig=ax.get_figure()\n",
    "fig.savefig(\"Test Cancer Class.png\")\n",
    "for p in ax.patches:\n",
    "    x=p.get_bbox().get_points()[:,0]\n",
    "    y=p.get_bbox().get_points()[1,1]\n",
    "    ax.annotate(y,(x.mean(), y),ha='center', va='bottom')"
   ]
  },
  {
   "cell_type": "code",
   "execution_count": 16,
   "metadata": {},
   "outputs": [
    {
     "name": "stdout",
     "output_type": "stream",
     "text": [
      "              Cancer Type  Magnification\n",
      "Cancer Class                            \n",
      "1                     792            792\n",
      "2                     788            788\n"
     ]
    }
   ],
   "source": [
    "print(test_df.groupby(\"Cancer Class\").count())"
   ]
  },
  {
   "cell_type": "markdown",
   "metadata": {},
   "source": [
    "### <b>[3.2] Cancer Type</b>"
   ]
  },
  {
   "cell_type": "code",
   "execution_count": 17,
   "metadata": {},
   "outputs": [
    {
     "data": {
      "image/png": "[encoded data removed]",
      "text/plain": [
       "<Figure size 426.925x360 with 1 Axes>"
      ]
     },
     "metadata": {
      "needs_background": "light"
     },
     "output_type": "display_data"
    }
   ],
   "source": [
    "ax = sb.catplot(x=\"Cancer Class\",hue=\"Cancer Type\", data=test_df,kind=\"count\")\n",
    "ax.savefig(\"Test Cancer Class with cancer type.png\")"
   ]
  },
  {
   "cell_type": "code",
   "execution_count": 18,
   "metadata": {},
   "outputs": [
    {
     "name": "stdout",
     "output_type": "stream",
     "text": [
      "             Cancer Class  Magnification\n",
      "Cancer Type                             \n",
      "11                    191            191\n",
      "12                    200            200\n",
      "13                    201            201\n",
      "14                    200            200\n",
      "21                    200            200\n",
      "22                    200            200\n",
      "23                    200            200\n",
      "24                    188            188\n"
     ]
    }
   ],
   "source": [
    "print(test_df.groupby(\"Cancer Type\").count())"
   ]
  },
  {
   "cell_type": "markdown",
   "metadata": {},
   "source": [
    "### <b>[3.3] Cancer Class Maginification</b>"
   ]
  },
  {
   "cell_type": "code",
   "execution_count": 19,
   "metadata": {},
   "outputs": [
    {
     "data": {
      "image/png": "[encoded data removed]",
      "text/plain": [
       "<Figure size 432x288 with 1 Axes>"
      ]
     },
     "metadata": {
      "needs_background": "light"
     },
     "output_type": "display_data"
    }
   ],
   "source": [
    "ax=sb.countplot(y=\"Magnification\", data=test_df)\n",
    "fig=ax.get_figure()\n",
    "fig.savefig(\"Test Magnification.png\")"
   ]
  },
  {
   "cell_type": "code",
   "execution_count": 20,
   "metadata": {},
   "outputs": [
    {
     "name": "stdout",
     "output_type": "stream",
     "text": [
      "               Cancer Class  Cancer Type\n",
      "Magnification                           \n",
      "40                      397          397\n",
      "100                     392          392\n",
      "200                     394          394\n",
      "400                     397          397\n"
     ]
    }
   ],
   "source": [
    "print(test_df.groupby(\"Magnification\").count())"
   ]
  },
  {
   "cell_type": "markdown",
   "metadata": {},
   "source": [
    "### <b>[3.4] Cancer Class Data Distribution</b>"
   ]
  },
  {
   "cell_type": "code",
   "execution_count": 21,
   "metadata": {},
   "outputs": [
    {
     "data": {
      "image/png": "[encoded data removed]",
      "text/plain": [
       "<Figure size 432x288 with 1 Axes>"
      ]
     },
     "metadata": {
      "needs_background": "light"
     },
     "output_type": "display_data"
    }
   ],
   "source": [
    "ax=sb.countplot(x=\"Magnification\",hue=\"Cancer Class\", data=test_df)\n",
    "fig=ax.get_figure()\n",
    "fig.savefig(\"Test Magnification in Test Numpy.png\")"
   ]
  },
  {
   "cell_type": "code",
   "execution_count": 22,
   "metadata": {},
   "outputs": [
    {
     "name": "stdout",
     "output_type": "stream",
     "text": [
      "                            Cancer Type\n",
      "Cancer Class Magnification             \n",
      "1            40                     200\n",
      "             100                    197\n",
      "             200                    198\n",
      "             400                    197\n",
      "2            40                     197\n",
      "             100                    195\n",
      "             200                    196\n",
      "             400                    200\n"
     ]
    }
   ],
   "source": [
    "print(test_df.groupby([\"Cancer Class\",\"Magnification\"]).count())"
   ]
  },
  {
   "cell_type": "markdown",
   "metadata": {},
   "source": [
    "### <b>[3.5] Test Data Distribution</b>"
   ]
  },
  {
   "cell_type": "code",
   "execution_count": 23,
   "metadata": {},
   "outputs": [
    {
     "data": {
      "image/png": "[encoded data removed]",
      "text/plain": [
       "<Figure size 786.925x360 with 2 Axes>"
      ]
     },
     "metadata": {
      "needs_background": "light"
     },
     "output_type": "display_data"
    }
   ],
   "source": [
    "ax= sb.catplot(x=\"Magnification\", hue=\"Cancer Type\", col=\"Cancer Class\",\n",
    "...                 data=test_df, kind=\"count\");\n",
    "ax.savefig(\"Test Cancer Type with Magnification using Cancer Class.png\")"
   ]
  },
  {
   "cell_type": "code",
   "execution_count": 24,
   "metadata": {},
   "outputs": [
    {
     "name": "stdout",
     "output_type": "stream",
     "text": [
      "                           Cancer Class\n",
      "Cancer Type Magnification              \n",
      "11          40                       50\n",
      "            100                      47\n",
      "            200                      48\n",
      "            400                      46\n",
      "12          40                       50\n",
      "            100                      50\n",
      "            200                      50\n",
      "            400                      50\n",
      "13          40                       50\n",
      "            100                      50\n",
      "            200                      50\n",
      "            400                      51\n",
      "14          40                       50\n",
      "            100                      50\n",
      "            200                      50\n",
      "            400                      50\n",
      "21          40                       50\n",
      "            100                      50\n",
      "            200                      50\n",
      "            400                      50\n",
      "22          40                       50\n",
      "            100                      50\n",
      "            200                      50\n",
      "            400                      50\n",
      "23          40                       50\n",
      "            100                      50\n",
      "            200                      50\n",
      "            400                      50\n",
      "24          40                       47\n",
      "            100                      45\n",
      "            200                      46\n",
      "            400                      50\n"
     ]
    }
   ],
   "source": [
    "print(test_df.groupby([\"Cancer Type\",\"Magnification\"]).count())"
   ]
  },
  {
   "cell_type": "markdown",
   "metadata": {},
   "source": [
    "# <b>Post-Exploratory Data Analysis<b>"
   ]
  },
  {
   "cell_type": "markdown",
   "metadata": {},
   "source": [
    "<p>After the dataset is retrived, it was passed through some Deep-Learning Algorithms for feature Extraction.The Algorithms are known as Deep Convolution Neural Networks.</p>\n",
    "<dl><b><i>The Used CNN's are as follows</i></b>\n",
    "              <dt>1. VGG16</dt>\n",
    "              <dt>2. VGG19</dt>\n",
    "              <dt>3. Xception</dt>\n",
    "              <dt>4. ResNet50</dt>\n",
    "              <dt>5. InceptionV3</dt>\n",
    "              <dt>6. InceptionResNetV2</dt>\n",
    "    </dl>\n",
    "The Dataset was distributed as 5000 Train Samples,2900 Test Samples and Randomly 9 Images were removed for the checking of model."
   ]
  }
 ],
 "metadata": {
  "kernelspec": {
   "display_name": "Python 3",
   "language": "python",
   "name": "python3"
  },
  "language_info": {
   "codemirror_mode": {
    "name": "ipython",
    "version": 3
   },
   "file_extension": ".py",
   "mimetype": "text/x-python",
   "name": "python",
   "nbconvert_exporter": "python",
   "pygments_lexer": "ipython3",
   "version": "3.7.2"
  }
 },
 "nbformat": 4,
 "nbformat_minor": 2
}
