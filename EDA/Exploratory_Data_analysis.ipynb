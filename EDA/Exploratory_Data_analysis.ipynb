{
 "cells": [
  {
   "cell_type": "markdown",
   "metadata": {},
   "source": [
    "# <center>Exploratory Data Analysis-BreakHis Dataset</center>\n",
    "#### <center>February 23,2019</center>"
   ]
  },
  {
   "cell_type": "markdown",
   "metadata": {},
   "source": [
    "# <b>[1] About Data</b>\n",
    "\n",
    "<p>The dataset which we are going to use is BreakHis dataset caontainin 7909 histopathical breast cancer sample images from 82 patients respectively.</p>\n",
    "<b> REPRESENTATION OF DATASET IN PROJECT IS AS FOLLOWS-</b>\n",
    "<ol>\n",
    "    <dl><b><i>1. Cancer Class</i></b>\n",
    "              <dt>1.1. Benign</dt>\n",
    "              <dd>This Class is represented by Integer-1</dd>\n",
    "              <dt>1.2. Malignant</dt>\n",
    "              <dd>This Class is represented by Integer-2</dd>\n",
    "    </dl>\n",
    "    <dl><i><b>2. Cancer Type</b></i>\n",
    "              <dt>2.1 Benign-A</dt>\n",
    "              <dd>Benign-A represents Adenosis.This Class is represented by Integer-11</dd>\n",
    "              <dt>2.2 Benign-FA</dt>\n",
    "              <dd>Benign-FA represents Fibro Adenoma.This Class is represented by Integer-12</dd>\n",
    "              <dt>2.3 Benign-TA</dt>\n",
    "              <dd>Benign-TA represents Tubulor Adenoma.This Class is represented by Integer-13</dd>\n",
    "              <dt>2.4 Benign-PT</dt>\n",
    "              <dd>Benign-PT represents Phyllodes Tumor.This Class is represented by Integer-14</dd>\n",
    "              <dt>2.5. Malignant-DC</dt>\n",
    "              <dd>Malignant-DC represents Ductol Carinoma.This Class is represented by Integer-21</dd>\n",
    "              <dt>2.6. Malignant-LC</dt>\n",
    "              <dd>Malignant-LC represents Lobular Carinoma.This Class is represented by Integer-22</dd>\n",
    "              <dt>2.7. Malignant-MC</dt>\n",
    "              <dd>Malignant-Mc represents Mucious Carinoma.This Class is represented by Integer-23</dd>\n",
    "              <dt>2.8. Malignant-PC</dt>\n",
    "              <dd>Malignant-PC represents Pappillary Carinoma.This Class is represented by Integer-24</dd>\n",
    "    </dl>\n",
    "    <dl><b><i>3. Magnification</i></b>\n",
    "              <dt>3.1. 40X  - 40</dt>\n",
    "              <dt>3.2. 100X - 100</dt>\n",
    "              <dt>3.3. 200X - 200</dt>\n",
    "              <dt>3.4. 400X - 400</dt>\n",
    "    </dl>\n",
    "</ol>\n",
    "\n",
    "<b>Note -</b><p>After Each visualization some counts are represented for elaborations of plots which are used for distribution.</p>\n"
   ]
  },
  {
   "cell_type": "markdown",
   "metadata": {},
   "source": [
    "# <b>Pre-Exploratory Data Analysis<b>"
   ]
  },
  {
   "cell_type": "markdown",
   "metadata": {},
   "source": [
    "<b>Import Library</b>"
   ]
  },
  {
   "cell_type": "code",
   "execution_count": 1,
   "metadata": {},
   "outputs": [],
   "source": [
    "import pandas as pd\n",
    "import numpy as np\n",
    "import seaborn as sb\n",
    "sb.set(style=\"darkgrid\")\n",
    "import matplotlib.pyplot as plt"
   ]
  },
  {
   "cell_type": "markdown",
   "metadata": {},
   "source": [
    "<b>Loading Numpy Array</b>"
   ]
  },
  {
   "cell_type": "code",
   "execution_count": 2,
   "metadata": {},
   "outputs": [],
   "source": [
    "# Train Arrays\n",
    "data_cancerclass_train=np.load(\"train/data_cancerclass_train.npy\")\n",
    "data_cancertype_train=np.load(\"train/data_cancertype_train.npy\")\n",
    "data_mag_train=np.load(\"train/data_mag_train.npy\")\n",
    "# Test Arrays\n",
    "data_cancerclass_test=np.load(\"test/data_cancerclass_test.npy\")\n",
    "data_cancertype_test=np.load(\"test/data_cancertype_test.npy\")\n",
    "data_mag_test=np.load(\"test/data_mag_test.npy\")"
   ]
  },
  {
   "cell_type": "markdown",
   "metadata": {},
   "source": [
    "# <b>[2] Train Arrays Visualization</b>"
   ]
  },
  {
   "cell_type": "code",
   "execution_count": 3,
   "metadata": {},
   "outputs": [],
   "source": [
    "train_df=pd.DataFrame({'Cancer Class':data_cancerclass_train,\n",
    "                      'Cancer Type':data_cancertype_train,\n",
    "                      'Magnification':data_mag_train})"
   ]
  },
  {
   "cell_type": "markdown",
   "metadata": {},
   "source": [
    "### <b>[2.1] Cancer Class</b>"
   ]
  },
  {
   "cell_type": "code",
   "execution_count": 4,
   "metadata": {},
   "outputs": [
    {
     "data": {
      "image/png": "[encoded data removed]",
      "text/plain": [
       "<Figure size 432x288 with 1 Axes>"
      ]
     },
     "metadata": {
      "needs_background": "light"
     },
     "output_type": "display_data"
    }
   ],
   "source": [
    "ax = sb.countplot(x=\"Cancer Class\", data=train_df)\n",
    "fig=ax.get_figure()\n",
    "fig.savefig(\"Train Cancer Class.png\")\n",
    "for p in ax.patches:\n",
    "    x=p.get_bbox().get_points()[:,0]\n",
    "    y=p.get_bbox().get_points()[1,1]\n",
    "    ax.annotate(y,(x.mean(), y),ha='center', va='bottom')"
   ]
  },
  {
   "cell_type": "code",
   "execution_count": 5,
   "metadata": {},
   "outputs": [
    {
     "name": "stdout",
     "output_type": "stream",
     "text": [
      "              Cancer Type  Magnification\n",
      "Cancer Class                            \n",
      "1                    1468           1468\n",
      "2                    3532           3532\n"
     ]
    }
   ],
   "source": [
    "print(train_df.groupby(\"Cancer Class\").count())"
   ]
  },
  {
   "cell_type": "markdown",
   "metadata": {},
   "source": [
    "### <b>[2.3] Cancer Type</b>"
   ]
  },
  {
   "cell_type": "code",
   "execution_count": 6,
   "metadata": {},
   "outputs": [
    {
     "data": {
      "image/png": "[encoded data removed]",
      "text/plain": [
       "<Figure size 426.925x360 with 1 Axes>"
      ]
     },
     "metadata": {
      "needs_background": "light"
     },
     "output_type": "display_data"
    }
   ],
   "source": [
    "ax = sb.catplot(x=\"Cancer Class\",hue=\"Cancer Type\", data=train_df,kind=\"count\")\n",
    "ax.savefig(\"Train Cancer Class with cancer type.png\")"
   ]
  },
  {
   "cell_type": "code",
   "execution_count": 7,
   "metadata": {},
   "outputs": [
    {
     "name": "stdout",
     "output_type": "stream",
     "text": [
      "             Cancer Class  Magnification\n",
      "Cancer Type                             \n",
      "11                    252            252\n",
      "12                    682            682\n",
      "13                    217            217\n",
      "14                    317            317\n",
      "21                   2312           2312\n",
      "22                    302            302\n",
      "23                    547            547\n",
      "24                    371            371\n"
     ]
    }
   ],
   "source": [
    "print(train_df.groupby(\"Cancer Type\").count())"
   ]
  },
  {
   "cell_type": "markdown",
   "metadata": {},
   "source": [
    "### <b>[2.3] Magnification</b>"
   ]
  },
  {
   "cell_type": "code",
   "execution_count": 8,
   "metadata": {},
   "outputs": [
    {
     "data": {
      "image/png": "[encoded data removed]",
      "text/plain": [
       "<Figure size 432x288 with 1 Axes>"
      ]
     },
     "metadata": {
      "needs_background": "light"
     },
     "output_type": "display_data"
    }
   ],
   "source": [
    "ax=sb.countplot(y=\"Magnification\", data=train_df)\n",
    "fig=ax.get_figure()\n",
    "fig.savefig(\"Train Magnification.png\")"
   ]
  },
  {
   "cell_type": "code",
   "execution_count": 9,
   "metadata": {},
   "outputs": [
    {
     "name": "stdout",
     "output_type": "stream",
     "text": [
      "               Cancer Class  Cancer Type\n",
      "Magnification                           \n",
      "40                     1248         1248\n",
      "100                    1320         1320\n",
      "200                    1268         1268\n",
      "400                    1164         1164\n"
     ]
    }
   ],
   "source": [
    "print(train_df.groupby(\"Magnification\").count())"
   ]
  },
  {
   "cell_type": "markdown",
   "metadata": {},
   "source": [
    "### <b>[2.4] Cancer Class Data Distribution</b>"
   ]
  },
  {
   "cell_type": "code",
   "execution_count": 10,
   "metadata": {},
   "outputs": [
    {
     "data": {
      "image/png": "[encoded data removed]",
      "text/plain": [
       "<Figure size 432x288 with 1 Axes>"
      ]
     },
     "metadata": {
      "needs_background": "light"
     },
     "output_type": "display_data"
    }
   ],
   "source": [
    "ax=sb.countplot(x=\"Magnification\",hue=\"Cancer Class\", data=train_df)\n",
    "fig=ax.get_figure()\n",
    "fig.savefig(\"Train Magnification in Train Numpy.png\")"
   ]
  },
  {
   "cell_type": "code",
   "execution_count": 11,
   "metadata": {},
   "outputs": [
    {
     "name": "stdout",
     "output_type": "stream",
     "text": [
      "                            Cancer Type\n",
      "Cancer Class Magnification             \n",
      "1            40                     369\n",
      "             100                    382\n",
      "             200                    367\n",
      "             400                    350\n",
      "2            40                     879\n",
      "             100                    938\n",
      "             200                    901\n",
      "             400                    814\n"
     ]
    }
   ],
   "source": [
    "print(train_df.groupby([\"Cancer Class\",\"Magnification\"]).count())"
   ]
  },
  {
   "cell_type": "markdown",
   "metadata": {},
   "source": [
    "### <b>[2.5] Train Data Distribution</b>"
   ]
  },
  {
   "cell_type": "code",
   "execution_count": 12,
   "metadata": {},
   "outputs": [
    {
     "data": {
      "image/png": "[encoded data removed]",
      "text/plain": [
       "<Figure size 786.925x360 with 2 Axes>"
      ]
     },
     "metadata": {
      "needs_background": "light"
     },
     "output_type": "display_data"
    }
   ],
   "source": [
    "ax= sb.catplot(x=\"Magnification\", hue=\"Cancer Type\", col=\"Cancer Class\",data=train_df, kind=\"count\")\n",
    "ax.savefig(\"Train Cancer Type with Magnification using Cancer Class.png\")"
   ]
  },
  {
   "cell_type": "code",
   "execution_count": 13,
   "metadata": {},
   "outputs": [
    {
     "name": "stdout",
     "output_type": "stream",
     "text": [
      "                           Cancer Class\n",
      "Cancer Type Magnification              \n",
      "11          40                       64\n",
      "            100                      66\n",
      "            200                      63\n",
      "            400                      59\n",
      "12          40                      172\n",
      "            100                     177\n",
      "            200                     172\n",
      "            400                     161\n",
      "13          40                       51\n",
      "            100                      54\n",
      "            200                      56\n",
      "            400                      56\n",
      "14          40                       82\n",
      "            100                      85\n",
      "            200                      76\n",
      "            400                      74\n",
      "21          40                      565\n",
      "            100                     607\n",
      "            200                     596\n",
      "            400                     544\n",
      "22          40                       73\n",
      "            100                      83\n",
      "            200                      76\n",
      "            400                      70\n",
      "23          40                      143\n",
      "            100                     151\n",
      "            200                     141\n",
      "            400                     112\n",
      "24          40                       98\n",
      "            100                      97\n",
      "            200                      88\n",
      "            400                      88\n"
     ]
    }
   ],
   "source": [
    "print(train_df.groupby([\"Cancer Type\",\"Magnification\"]).count())"
   ]
  },
  {
   "cell_type": "markdown",
   "metadata": {},
   "source": [
    "# <b>[3] Test Arrays Visualization</b>"
   ]
  },
  {
   "cell_type": "code",
   "execution_count": 14,
   "metadata": {},
   "outputs": [],
   "source": [
    "test_df=pd.DataFrame({'Cancer Class':data_cancerclass_test,\n",
    "                      'Cancer Type':data_cancertype_test,\n",
    "                      'Magnification':data_mag_test})"
   ]
  },
  {
   "cell_type": "markdown",
   "metadata": {},
   "source": [
    "### <b>[3.1] Cancer Class</b>"
   ]
  },
  {
   "cell_type": "code",
   "execution_count": 15,
   "metadata": {},
   "outputs": [
    {
     "data": {
      "image/png": "[encoded data removed]",
      "text/plain": [
       "<Figure size 432x288 with 1 Axes>"
      ]
     },
     "metadata": {
      "needs_background": "light"
     },
     "output_type": "display_data"
    }
   ],
   "source": [
    "ax = sb.countplot(x=\"Cancer Class\", data=test_df)\n",
    "fig=ax.get_figure()\n",
    "fig.savefig(\"Test Cancer Class.png\")\n",
    "for p in ax.patches:\n",
    "    x=p.get_bbox().get_points()[:,0]\n",
    "    y=p.get_bbox().get_points()[1,1]\n",
    "    ax.annotate(y,(x.mean(), y),ha='center', va='bottom')"
   ]
  },
  {
   "cell_type": "code",
   "execution_count": 16,
   "metadata": {},
   "outputs": [
    {
     "name": "stdout",
     "output_type": "stream",
     "text": [
      "              Cancer Type  Magnification\n",
      "Cancer Class                            \n",
      "1                    1007           1007\n",
      "2                    1893           1893\n"
     ]
    }
   ],
   "source": [
    "print(test_df.groupby(\"Cancer Class\").count())"
   ]
  },
  {
   "cell_type": "markdown",
   "metadata": {},
   "source": [
    "### <b>[3.2] Cancer Type</b>"
   ]
  },
  {
   "cell_type": "code",
   "execution_count": 17,
   "metadata": {},
   "outputs": [
    {
     "data": {
      "image/png": "[encoded data removed]",
      "text/plain": [
       "<Figure size 426.925x360 with 1 Axes>"
      ]
     },
     "metadata": {
      "needs_background": "light"
     },
     "output_type": "display_data"
    }
   ],
   "source": [
    "ax = sb.catplot(x=\"Cancer Class\",hue=\"Cancer Type\", data=test_df,kind=\"count\")\n",
    "ax.savefig(\"Test Cancer Class with cancer type.png\")"
   ]
  },
  {
   "cell_type": "code",
   "execution_count": 18,
   "metadata": {},
   "outputs": [
    {
     "name": "stdout",
     "output_type": "stream",
     "text": [
      "             Cancer Class  Magnification\n",
      "Cancer Type                             \n",
      "11                    191            191\n",
      "12                    331            331\n",
      "13                    235            235\n",
      "14                    250            250\n",
      "21                   1138           1138\n",
      "22                    323            323\n",
      "23                    244            244\n",
      "24                    188            188\n"
     ]
    }
   ],
   "source": [
    "print(test_df.groupby(\"Cancer Type\").count())"
   ]
  },
  {
   "cell_type": "markdown",
   "metadata": {},
   "source": [
    "### <b>[3.3] Cancer Class Maginification</b>"
   ]
  },
  {
   "cell_type": "code",
   "execution_count": 19,
   "metadata": {},
   "outputs": [
    {
     "data": {
      "image/png": "[encoded data removed]",
      "text/plain": [
       "<Figure size 432x288 with 1 Axes>"
      ]
     },
     "metadata": {
      "needs_background": "light"
     },
     "output_type": "display_data"
    }
   ],
   "source": [
    "ax=sb.countplot(y=\"Magnification\", data=test_df)\n",
    "fig=ax.get_figure()\n",
    "fig.savefig(\"Test Magnification.png\")"
   ]
  },
  {
   "cell_type": "code",
   "execution_count": 20,
   "metadata": {},
   "outputs": [
    {
     "name": "stdout",
     "output_type": "stream",
     "text": [
      "               Cancer Class  Cancer Type\n",
      "Magnification                           \n",
      "40                      745          745\n",
      "100                     759          759\n",
      "200                     743          743\n",
      "400                     653          653\n"
     ]
    }
   ],
   "source": [
    "print(test_df.groupby(\"Magnification\").count())"
   ]
  },
  {
   "cell_type": "markdown",
   "metadata": {},
   "source": [
    "### <b>[3.4] Cancer Class Data Distribution</b>"
   ]
  },
  {
   "cell_type": "code",
   "execution_count": 21,
   "metadata": {},
   "outputs": [
    {
     "data": {
      "image/png": "[encoded data removed]",
      "text/plain": [
       "<Figure size 432x288 with 1 Axes>"
      ]
     },
     "metadata": {
      "needs_background": "light"
     },
     "output_type": "display_data"
    }
   ],
   "source": [
    "ax=sb.countplot(x=\"Magnification\",hue=\"Cancer Class\", data=test_df)\n",
    "fig=ax.get_figure()\n",
    "fig.savefig(\"Test Magnification in Test Numpy.png\")"
   ]
  },
  {
   "cell_type": "code",
   "execution_count": 22,
   "metadata": {},
   "outputs": [
    {
     "name": "stdout",
     "output_type": "stream",
     "text": [
      "                            Cancer Type\n",
      "Cancer Class Magnification             \n",
      "1            40                     255\n",
      "             100                    261\n",
      "             200                    255\n",
      "             400                    236\n",
      "2            40                     490\n",
      "             100                    498\n",
      "             200                    488\n",
      "             400                    417\n"
     ]
    }
   ],
   "source": [
    "print(test_df.groupby([\"Cancer Class\",\"Magnification\"]).count())"
   ]
  },
  {
   "cell_type": "markdown",
   "metadata": {},
   "source": [
    "### <b>[3.5] Test Data Distribution</b>"
   ]
  },
  {
   "cell_type": "code",
   "execution_count": 23,
   "metadata": {},
   "outputs": [
    {
     "data": {
      "image/png": "[encoded data removed]",
      "text/plain": [
       "<Figure size 786.925x360 with 2 Axes>"
      ]
     },
     "metadata": {
      "needs_background": "light"
     },
     "output_type": "display_data"
    }
   ],
   "source": [
    "ax= sb.catplot(x=\"Magnification\", hue=\"Cancer Type\", col=\"Cancer Class\",\n",
    "...                 data=test_df, kind=\"count\");\n",
    "ax.savefig(\"Test Cancer Type with Magnification using Cancer Class.png\")"
   ]
  },
  {
   "cell_type": "code",
   "execution_count": 24,
   "metadata": {},
   "outputs": [
    {
     "name": "stdout",
     "output_type": "stream",
     "text": [
      "                           Cancer Class\n",
      "Cancer Type Magnification              \n",
      "11          40                       50\n",
      "            100                      47\n",
      "            200                      48\n",
      "            400                      46\n",
      "12          40                       80\n",
      "            100                      83\n",
      "            200                      92\n",
      "            400                      76\n",
      "13          40                       58\n",
      "            100                      66\n",
      "            200                      52\n",
      "            400                      59\n",
      "14          40                       67\n",
      "            100                      65\n",
      "            200                      63\n",
      "            400                      55\n",
      "21          40                      298\n",
      "            100                     296\n",
      "            200                     300\n",
      "            400                     244\n",
      "22          40                       83\n",
      "            100                      87\n",
      "            200                      87\n",
      "            400                      66\n",
      "23          40                       62\n",
      "            100                      70\n",
      "            200                      55\n",
      "            400                      57\n",
      "24          40                       47\n",
      "            100                      45\n",
      "            200                      46\n",
      "            400                      50\n"
     ]
    }
   ],
   "source": [
    "print(test_df.groupby([\"Cancer Type\",\"Magnification\"]).count())"
   ]
  },
  {
   "cell_type": "markdown",
   "metadata": {},
   "source": [
    "# <b>Post-Exploratory Data Analysis<b>"
   ]
  },
  {
   "cell_type": "markdown",
   "metadata": {},
   "source": [
    "<p>After the dataset is retrived, it was passed through some Deep-Learning Algorithms for feature Extraction.The Algorithms are known as Deep Convolution Neural Networks.</p>\n",
    "<dl><b><i>The Used CNN's are as follows</i></b>\n",
    "              <dt>1. VGG16</dt>\n",
    "              <dt>2. VGG19</dt>\n",
    "              <dt>3. Xception</dt>\n",
    "              <dt>4. ResNet50</dt>\n",
    "              <dt>5. InceptionV3</dt>\n",
    "              <dt>6. InceptionResNetV2</dt>\n",
    "    </dl>\n",
    "The Dataset was distributed as 5000 Train Samples,2900 Test Samples and Randomly 9 Images were removed for the checking of model."
   ]
  }
 ],
 "metadata": {
  "kernelspec": {
   "display_name": "Python 3",
   "language": "python",
   "name": "python3"
  },
  "language_info": {
   "codemirror_mode": {
    "name": "ipython",
    "version": 3
   },
   "file_extension": ".py",
   "mimetype": "text/x-python",
   "name": "python",
   "nbconvert_exporter": "python",
   "pygments_lexer": "ipython3",
   "version": "3.6.3"
  }
 },
 "nbformat": 4,
 "nbformat_minor": 2
}
