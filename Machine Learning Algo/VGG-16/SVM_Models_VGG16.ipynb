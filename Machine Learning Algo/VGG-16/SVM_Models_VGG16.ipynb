{
 "cells": [
  {
   "cell_type": "markdown",
   "metadata": {},
   "source": [
    "# Import Library"
   ]
  },
  {
   "cell_type": "code",
   "execution_count": 1,
   "metadata": {},
   "outputs": [],
   "source": [
    "import os\n",
    "import pandas as pd\n",
    "import numpy as np\n",
    "import pickle\n",
    "import time\n",
    "# Machine Learning Algorithms\n",
    "from sklearn.linear_model import LogisticRegression\n",
    "from sklearn.svm import LinearSVC\n",
    "from sklearn.metrics import confusion_matrix\n",
    "from sklearn.pipeline import make_pipeline\n",
    "from sklearn.model_selection import GridSearchCV\n",
    "from sklearn.metrics import confusion_matrix\n",
    "from sklearn.metrics import precision_score,recall_score,f1_score\n",
    "from sklearn.metrics import precision_recall_fscore_support\n",
    "from sklearn.model_selection import validation_curve,learning_curve\n",
    "import matplotlib.pyplot as plt\n",
    "from sklearn.metrics import precision_recall_fscore_support\n",
    "from sklearn.svm import SVC\n",
    "from joblib import dump,load"
   ]
  },
  {
   "cell_type": "markdown",
   "metadata": {},
   "source": [
    "# Loading Paths"
   ]
  },
  {
   "cell_type": "code",
   "execution_count": 2,
   "metadata": {},
   "outputs": [],
   "source": [
    "train_path=\"A:\\\\Projects\\\\Major Project\\\\Extracted CNN Features\\\\VGG16\\\\train\"\n",
    "test_path=\"A:\\\\Projects\\\\Major Project\\\\Extracted CNN Features\\\\VGG16\\\\test\""
   ]
  },
  {
   "cell_type": "code",
   "execution_count": 3,
   "metadata": {},
   "outputs": [],
   "source": [
    "param_range = [0.001, 0.01, 0.1, 1.0, 10.0, 100.0]\n",
    "\n",
    "param_grid = [{'svc__C': param_range, \n",
    "               'svc__kernel': ['linear']},\n",
    "              {'svc__C': param_range, \n",
    "               'svc__gamma': ['auto'], \n",
    "               'svc__kernel': ['rbf']}]\n",
    "pipe_svc = make_pipeline(SVC(random_state=1))\n"
   ]
  },
  {
   "cell_type": "code",
   "execution_count": 4,
   "metadata": {},
   "outputs": [],
   "source": [
    "# Training Paths\n",
    "X_train=np.load(train_path+\"\\\\data_cnn_VGG16_train.npy\")\n",
    "Y_train=np.load(train_path+\"\\\\data_mag_VGG16_train.npy\")\n",
    "# Cancer class\n",
    "cancerclass_train=np.load(train_path+\"\\\\data_cancerclass_VGG16_train.npy\")\n",
    "# Cancer type\n",
    "cancertype_train=np.load(train_path+\"\\\\data_cancertype_VGG16_train.npy\")\n",
    "# Testing Paths\n",
    "X_test=np.load(test_path+\"\\\\data_cnn_VGG16_test.npy\")\n",
    "Y_test=np.load(test_path+\"\\\\data_mag_VGG16_test.npy\")\n",
    "# Cancer class\n",
    "cancerclass_test=np.load(test_path+\"\\\\data_cancerclass_VGG16_test.npy\")\n",
    "# Cancer type\n",
    "cancertype_test=np.load(test_path+\"\\\\data_cancertype_VGG16_test.npy\")"
   ]
  },
  {
   "cell_type": "markdown",
   "metadata": {},
   "source": [
    "## Magnification classification"
   ]
  },
  {
   "cell_type": "code",
   "execution_count": 18,
   "metadata": {},
   "outputs": [
    {
     "name": "stderr",
     "output_type": "stream",
     "text": [
      "c:\\users\\karan gupta\\appdata\\local\\programs\\python\\python37\\lib\\site-packages\\ipykernel_launcher.py:1: DeprecationWarning: time.clock has been deprecated in Python 3.3 and will be removed from Python 3.8: use time.perf_counter or time.process_time instead\n",
      "  \"\"\"Entry point for launching an IPython kernel.\n"
     ]
    },
    {
     "name": "stdout",
     "output_type": "stream",
     "text": [
      "0.8313291139240506\n",
      "{'svc__C': 0.001, 'svc__kernel': 'linear'}\n"
     ]
    },
    {
     "ename": "NameError",
     "evalue": "name 'y_train' is not defined",
     "output_type": "error",
     "traceback": [
      "\u001b[1;31m---------------------------------------------------------------------------\u001b[0m",
      "\u001b[1;31mNameError\u001b[0m                                 Traceback (most recent call last)",
      "\u001b[1;32m<ipython-input-18-685885a6b1f9>\u001b[0m in \u001b[0;36m<module>\u001b[1;34m\u001b[0m\n\u001b[0;32m     23\u001b[0m \u001b[1;33m\u001b[0m\u001b[0m\n\u001b[0;32m     24\u001b[0m \u001b[0mclf\u001b[0m \u001b[1;33m=\u001b[0m \u001b[0mgs\u001b[0m\u001b[1;33m.\u001b[0m\u001b[0mbest_estimator_\u001b[0m\u001b[1;33m\u001b[0m\u001b[1;33m\u001b[0m\u001b[0m\n\u001b[1;32m---> 25\u001b[1;33m \u001b[0mclf\u001b[0m\u001b[1;33m.\u001b[0m\u001b[0mfit\u001b[0m\u001b[1;33m(\u001b[0m\u001b[0mX_train\u001b[0m\u001b[1;33m,\u001b[0m \u001b[0my_train\u001b[0m\u001b[1;33m)\u001b[0m\u001b[1;33m\u001b[0m\u001b[1;33m\u001b[0m\u001b[0m\n\u001b[0m\u001b[0;32m     26\u001b[0m \u001b[0mprint\u001b[0m\u001b[1;33m(\u001b[0m\u001b[1;34m'Test accuracy: %.3f'\u001b[0m \u001b[1;33m%\u001b[0m \u001b[0mclf\u001b[0m\u001b[1;33m.\u001b[0m\u001b[0mscore\u001b[0m\u001b[1;33m(\u001b[0m\u001b[0mX_test\u001b[0m\u001b[1;33m,\u001b[0m \u001b[0my_test\u001b[0m\u001b[1;33m)\u001b[0m\u001b[1;33m)\u001b[0m\u001b[1;33m\u001b[0m\u001b[1;33m\u001b[0m\u001b[0m\n\u001b[0;32m     27\u001b[0m \u001b[0mprint\u001b[0m\u001b[1;33m(\u001b[0m\u001b[0mtime\u001b[0m\u001b[1;33m.\u001b[0m\u001b[0mclock\u001b[0m\u001b[1;33m(\u001b[0m\u001b[1;33m)\u001b[0m \u001b[1;33m-\u001b[0m \u001b[0mstart_time\u001b[0m\u001b[1;33m,\u001b[0m \u001b[1;34m\"seconds\"\u001b[0m\u001b[1;33m)\u001b[0m\u001b[1;33m\u001b[0m\u001b[1;33m\u001b[0m\u001b[0m\n",
      "\u001b[1;31mNameError\u001b[0m: name 'y_train' is not defined"
     ]
    }
   ],
   "source": [
    "start_time = time.clock()\n",
    "\n",
    "\n",
    "param_grid = [{'svc__C': param_range, \n",
    "               'svc__kernel': ['linear']},\n",
    "              {'svc__C': param_range, \n",
    "               'svc__gamma': ['auto'], \n",
    "               'svc__kernel': ['rbf']}]\n",
    "\n",
    "gs = GridSearchCV(estimator=pipe_svc, \n",
    "                  param_grid=param_grid, \n",
    "                  scoring='accuracy', \n",
    "                  cv=10,\n",
    "                  n_jobs=-1)\n",
    "gs = gs.fit(X_train, Y_train)\n",
    "print(gs.best_score_)\n",
    "print(gs.best_params_)\n",
    "print(time.clock() - start_time, \"seconds\")\n",
    "\n",
    "\n",
    "\n",
    "clf = gs.best_estimator_\n",
    "clf.fit(X_train, y_train)\n",
    "print('Test accuracy: %.3f' % clf.score(X_test, Y_test))"
   ]
  },
  {
   "cell_type": "code",
   "execution_count": 19,
   "metadata": {},
   "outputs": [
    {
     "name": "stdout",
     "output_type": "stream",
     "text": [
      "Test accuracy: 0.902\n",
      "28811.304737958 seconds\n"
     ]
    },
    {
     "name": "stderr",
     "output_type": "stream",
     "text": [
      "c:\\users\\karan gupta\\appdata\\local\\programs\\python\\python37\\lib\\site-packages\\ipykernel_launcher.py:4: DeprecationWarning: time.clock has been deprecated in Python 3.3 and will be removed from Python 3.8: use time.perf_counter or time.process_time instead\n",
      "  after removing the cwd from sys.path.\n"
     ]
    }
   ],
   "source": [
    "clf = gs.best_estimator_\n",
    "clf.fit(X_train, Y_train)\n",
    "print('Test accuracy: %.3f' % clf.score(X_test, Y_test))\n",
    "print(time.clock() - start_time, \"seconds\")"
   ]
  },
  {
   "cell_type": "code",
   "execution_count": 20,
   "metadata": {},
   "outputs": [],
   "source": [
    "pred=clf.predict(X_test)"
   ]
  },
  {
   "cell_type": "code",
   "execution_count": 21,
   "metadata": {},
   "outputs": [],
   "source": [
    "con=confusion_matrix(Y_test,pred)"
   ]
  },
  {
   "cell_type": "code",
   "execution_count": 22,
   "metadata": {},
   "outputs": [
    {
     "name": "stdout",
     "output_type": "stream",
     "text": [
      "[[375  22   0   0]\n",
      " [ 15 347  30   0]\n",
      " [  5  18 344  27]\n",
      " [  1   0  37 359]]\n"
     ]
    }
   ],
   "source": [
    "print(con)"
   ]
  },
  {
   "cell_type": "code",
   "execution_count": 23,
   "metadata": {},
   "outputs": [
    {
     "data": {
      "text/plain": [
       "(array([0.9469697 , 0.89664083, 0.83698297, 0.93005181]),\n",
       " array([0.94458438, 0.88520408, 0.87309645, 0.90428212]),\n",
       " array([0.94577554, 0.89088575, 0.85465839, 0.91698595]),\n",
       " array([397, 392, 394, 397], dtype=int64))"
      ]
     },
     "execution_count": 23,
     "metadata": {},
     "output_type": "execute_result"
    }
   ],
   "source": [
    "precision_recall_fscore_support(Y_test,pred)"
   ]
  },
  {
   "cell_type": "markdown",
   "metadata": {},
   "source": [
    "## CancerClass Magnification Classification"
   ]
  },
  {
   "cell_type": "code",
   "execution_count": 6,
   "metadata": {},
   "outputs": [
    {
     "name": "stdout",
     "output_type": "stream",
     "text": [
      "1596\n"
     ]
    }
   ],
   "source": [
    "Y_train_40=[]\n",
    "X_train_40=[]\n",
    "\n",
    "Y_train_100=[]\n",
    "X_train_100=[]\n",
    "\n",
    "Y_train_200=[]\n",
    "X_train_200=[]\n",
    "\n",
    "Y_train_400=[]\n",
    "X_train_400=[]\n",
    "\n",
    "for i in range(0,len(Y_train)):\n",
    "    if(Y_train[i]==40):\n",
    "        Y_train_40.append(cancerclass_train[i])\n",
    "        X_train_40.append(X_train[i])\n",
    "    if(Y_train[i]==100):\n",
    "        Y_train_100.append(cancerclass_train[i])\n",
    "        X_train_100.append(X_train[i])\n",
    "    if(Y_train[i]==200):\n",
    "        Y_train_200.append(cancerclass_train[i])\n",
    "        X_train_200.append(X_train[i])\n",
    "    if(Y_train[i]==400):\n",
    "        Y_train_400.append(cancerclass_train[i])\n",
    "        X_train_400.append(X_train[i])\n",
    "\n",
    "X_train_40=np.array(X_train_40)\n",
    "X_train_100=np.array(X_train_100)\n",
    "X_train_200=np.array(X_train_200)\n",
    "X_train_400=np.array(X_train_400)\n",
    "Y_train_40=np.array(Y_train_40)\n",
    "Y_train_100=np.array(Y_train_100)\n",
    "Y_train_200=np.array(Y_train_200)\n",
    "Y_train_400=np.array(Y_train_400)\n",
    "print(Y_train_40.size)\n",
    "\n",
    "Y_test_40=[]\n",
    "X_test_40=[]\n",
    "\n",
    "Y_test_100=[]\n",
    "X_test_100=[]\n",
    "\n",
    "Y_test_200=[]\n",
    "X_test_200=[]\n",
    "\n",
    "Y_test_400=[]\n",
    "X_test_400=[]\n",
    "\n",
    "for i in range(0,len(Y_test)):\n",
    "    if(Y_test[i]==40):\n",
    "        Y_test_40.append(cancerclass_test[i])\n",
    "        X_test_40.append(X_test[i])\n",
    "    if(Y_test[i]==100):\n",
    "        Y_test_100.append(cancerclass_test[i])\n",
    "        X_test_100.append(X_test[i])\n",
    "    if(Y_test[i]==200):\n",
    "        Y_test_200.append(cancerclass_test[i])\n",
    "        X_test_200.append(X_test[i])\n",
    "    if(Y_test[i]==400):\n",
    "        Y_test_400.append(cancerclass_test[i])\n",
    "        X_test_400.append(X_test[i])\n",
    "\n",
    "X_test_40=np.array(X_test_40)\n",
    "X_test_100=np.array(X_test_100)\n",
    "X_test_200=np.array(X_test_200)\n",
    "X_test_400=np.array(X_test_400)\n",
    "Y_test_40=np.array(Y_test_40)\n",
    "Y_test_100=np.array(Y_test_100)\n",
    "Y_test_200=np.array(Y_test_200)\n",
    "Y_test_400=np.array(Y_test_400)"
   ]
  },
  {
   "cell_type": "markdown",
   "metadata": {},
   "source": [
    "## CancerClass Magnification Classification-40"
   ]
  },
  {
   "cell_type": "code",
   "execution_count": 5,
   "metadata": {},
   "outputs": [
    {
     "name": "stderr",
     "output_type": "stream",
     "text": [
      "c:\\users\\karan gupta\\appdata\\local\\programs\\python\\python37\\lib\\site-packages\\ipykernel_launcher.py:1: DeprecationWarning: time.clock has been deprecated in Python 3.3 and will be removed from Python 3.8: use time.perf_counter or time.process_time instead\n",
      "  \"\"\"Entry point for launching an IPython kernel.\n"
     ]
    },
    {
     "name": "stdout",
     "output_type": "stream",
     "text": [
      "0.8596491228070176\n",
      "{'svc__C': 0.001, 'svc__kernel': 'linear'}\n",
      "632.631926201 seconds\n"
     ]
    },
    {
     "name": "stderr",
     "output_type": "stream",
     "text": [
      "c:\\users\\karan gupta\\appdata\\local\\programs\\python\\python37\\lib\\site-packages\\ipykernel_launcher.py:20: DeprecationWarning: time.clock has been deprecated in Python 3.3 and will be removed from Python 3.8: use time.perf_counter or time.process_time instead\n"
     ]
    },
    {
     "name": "stdout",
     "output_type": "stream",
     "text": [
      "Test accuracy: 0.786\n"
     ]
    }
   ],
   "source": [
    "start_time = time.clock()\n",
    "pipe_svc = make_pipeline(SVC(random_state=1))\n",
    "\n",
    "param_range = [0.001, 0.01, 0.1, 1.0, 10.0, 100.0]\n",
    "\n",
    "param_grid = [{'svc__C': param_range, \n",
    "               'svc__kernel': ['linear']},\n",
    "              {'svc__C': param_range, \n",
    "               'svc__gamma': ['auto'], \n",
    "               'svc__kernel': ['rbf']}]\n",
    "\n",
    "gs = GridSearchCV(estimator=pipe_svc, \n",
    "                  param_grid=param_grid, \n",
    "                  scoring='accuracy', \n",
    "                  cv=10,\n",
    "                  n_jobs=-1)\n",
    "gs = gs.fit(X_train_40, Y_train_40)\n",
    "print(gs.best_score_)\n",
    "print(gs.best_params_)\n",
    "print(time.clock() - start_time, \"seconds\")\n",
    "\n",
    "\n",
    "clf = gs.best_estimator_\n",
    "clf.fit(X_train_40, Y_train_40)\n",
    "print('Test accuracy: %.3f' % clf.score(X_test_40, Y_test_40))"
   ]
  },
  {
   "cell_type": "markdown",
   "metadata": {},
   "source": [
    "## CancerClass Magnification Classification-100"
   ]
  },
  {
   "cell_type": "code",
   "execution_count": 7,
   "metadata": {},
   "outputs": [
    {
     "name": "stderr",
     "output_type": "stream",
     "text": [
      "c:\\users\\karan gupta\\appdata\\local\\programs\\python\\python37\\lib\\site-packages\\ipykernel_launcher.py:1: DeprecationWarning: time.clock has been deprecated in Python 3.3 and will be removed from Python 3.8: use time.perf_counter or time.process_time instead\n",
      "  \"\"\"Entry point for launching an IPython kernel.\n"
     ]
    },
    {
     "name": "stdout",
     "output_type": "stream",
     "text": [
      "0.8601066982809722\n",
      "{'svc__C': 0.01, 'svc__kernel': 'linear'}\n",
      "807.2974345060001 seconds\n"
     ]
    },
    {
     "name": "stderr",
     "output_type": "stream",
     "text": [
      "c:\\users\\karan gupta\\appdata\\local\\programs\\python\\python37\\lib\\site-packages\\ipykernel_launcher.py:20: DeprecationWarning: time.clock has been deprecated in Python 3.3 and will be removed from Python 3.8: use time.perf_counter or time.process_time instead\n"
     ]
    },
    {
     "name": "stdout",
     "output_type": "stream",
     "text": [
      "Test accuracy: 0.852\n"
     ]
    }
   ],
   "source": [
    "start_time = time.clock()\n",
    "pipe_svc = make_pipeline(SVC(random_state=1))\n",
    "\n",
    "param_range = [0.001, 0.01, 0.1, 1.0, 10.0, 100.0]\n",
    "\n",
    "param_grid = [{'svc__C': param_range, \n",
    "               'svc__kernel': ['linear']},\n",
    "              {'svc__C': param_range, \n",
    "               'svc__gamma': ['auto'], \n",
    "               'svc__kernel': ['rbf']}]\n",
    "\n",
    "gs = GridSearchCV(estimator=pipe_svc, \n",
    "                  param_grid=param_grid, \n",
    "                  scoring='accuracy', \n",
    "                  cv=10,\n",
    "                  n_jobs=-1)\n",
    "gs = gs.fit(X_train_100, Y_train_100)\n",
    "print(gs.best_score_)\n",
    "print(gs.best_params_)\n",
    "print(time.clock() - start_time, \"seconds\")\n",
    "\n",
    "\n",
    "clf = gs.best_estimator_\n",
    "clf.fit(X_train_100, Y_train_100)\n",
    "print('Test accuracy: %.3f' % clf.score(X_test_100, Y_test_100))"
   ]
  },
  {
   "cell_type": "code",
   "execution_count": 8,
   "metadata": {},
   "outputs": [
    {
     "name": "stdout",
     "output_type": "stream",
     "text": [
      "Pipeline(memory=None,\n",
      "     steps=[('svc', SVC(C=0.01, cache_size=200, class_weight=None, coef0=0.0,\n",
      "  decision_function_shape='ovr', degree=3, gamma='auto_deprecated',\n",
      "  kernel='linear', max_iter=-1, probability=False, random_state=1,\n",
      "  shrinking=True, tol=0.001, verbose=False))])\n"
     ]
    }
   ],
   "source": [
    "print(gs.best_estimator_)"
   ]
  },
  {
   "cell_type": "markdown",
   "metadata": {},
   "source": [
    "## CancerClass Magnification Classification-200"
   ]
  },
  {
   "cell_type": "code",
   "execution_count": 9,
   "metadata": {},
   "outputs": [
    {
     "name": "stderr",
     "output_type": "stream",
     "text": [
      "c:\\users\\karan gupta\\appdata\\local\\programs\\python\\python37\\lib\\site-packages\\ipykernel_launcher.py:1: DeprecationWarning: time.clock has been deprecated in Python 3.3 and will be removed from Python 3.8: use time.perf_counter or time.process_time instead\n",
      "  \"\"\"Entry point for launching an IPython kernel.\n"
     ]
    },
    {
     "name": "stdout",
     "output_type": "stream",
     "text": [
      "0.8670377241805813\n",
      "{'svc__C': 0.001, 'svc__kernel': 'linear'}\n",
      "1584.021985761 seconds\n"
     ]
    },
    {
     "name": "stderr",
     "output_type": "stream",
     "text": [
      "c:\\users\\karan gupta\\appdata\\local\\programs\\python\\python37\\lib\\site-packages\\ipykernel_launcher.py:20: DeprecationWarning: time.clock has been deprecated in Python 3.3 and will be removed from Python 3.8: use time.perf_counter or time.process_time instead\n"
     ]
    },
    {
     "name": "stdout",
     "output_type": "stream",
     "text": [
      "Test accuracy: 0.820\n"
     ]
    }
   ],
   "source": [
    "tart_time = time.clock()\n",
    "pipe_svc = make_pipeline(SVC(random_state=1))\n",
    "\n",
    "param_range = [0.001, 0.01, 0.1, 1.0, 10.0, 100.0]\n",
    "\n",
    "param_grid = [{'svc__C': param_range, \n",
    "               'svc__kernel': ['linear']},\n",
    "              {'svc__C': param_range, \n",
    "               'svc__gamma': ['auto'], \n",
    "               'svc__kernel': ['rbf']}]\n",
    "\n",
    "gs = GridSearchCV(estimator=pipe_svc, \n",
    "                  param_grid=param_grid, \n",
    "                  scoring='accuracy', \n",
    "                  cv=10,\n",
    "                  n_jobs=-1)\n",
    "gs = gs.fit(X_train_200, Y_train_200)\n",
    "print(gs.best_score_)\n",
    "print(gs.best_params_)\n",
    "print(time.clock() - start_time, \"seconds\")\n",
    "\n",
    "\n",
    "clf = gs.best_estimator_\n",
    "clf.fit(X_train_200, Y_train_200)\n",
    "print('Test accuracy: %.3f' % clf.score(X_test_200, Y_test_200))"
   ]
  },
  {
   "cell_type": "markdown",
   "metadata": {},
   "source": [
    "## CancerClass Magnification Classification-400"
   ]
  },
  {
   "cell_type": "code",
   "execution_count": 9,
   "metadata": {},
   "outputs": [
    {
     "name": "stderr",
     "output_type": "stream",
     "text": [
      "c:\\users\\karan gupta\\appdata\\local\\programs\\python\\python37\\lib\\site-packages\\ipykernel_launcher.py:1: DeprecationWarning: time.clock has been deprecated in Python 3.3 and will be removed from Python 3.8: use time.perf_counter or time.process_time instead\n",
      "  \"\"\"Entry point for launching an IPython kernel.\n"
     ]
    },
    {
     "name": "stdout",
     "output_type": "stream",
     "text": [
      "0.8549295774647887\n",
      "{'svc__C': 0.001, 'svc__kernel': 'linear'}\n",
      "536.3881946619999 seconds\n"
     ]
    },
    {
     "name": "stderr",
     "output_type": "stream",
     "text": [
      "c:\\users\\karan gupta\\appdata\\local\\programs\\python\\python37\\lib\\site-packages\\ipykernel_launcher.py:14: DeprecationWarning: time.clock has been deprecated in Python 3.3 and will be removed from Python 3.8: use time.perf_counter or time.process_time instead\n",
      "  \n"
     ]
    },
    {
     "name": "stdout",
     "output_type": "stream",
     "text": [
      "Test accuracy: 0.796\n"
     ]
    }
   ],
   "source": [
    "start_time = time.clock()\n",
    "pipe_svc = make_pipeline(SVC(random_state=1))\n",
    "\n",
    "\n",
    "\n",
    "gs = GridSearchCV(estimator=pipe_svc, \n",
    "                  param_grid=param_grid, \n",
    "                  scoring='accuracy', \n",
    "                  cv=10,\n",
    "                  n_jobs=-1)\n",
    "gs = gs.fit(X_train_400, Y_train_400)\n",
    "print(gs.best_score_)\n",
    "print(gs.best_params_)\n",
    "print(time.clock() - start_time, \"seconds\")\n",
    "\n",
    "\n",
    "clf = gs.best_estimator_\n",
    "clf.fit(X_train_400, Y_train_400)\n",
    "print('Test accuracy: %.3f' % clf.score(X_test_400, Y_test_400))"
   ]
  },
  {
   "cell_type": "markdown",
   "metadata": {},
   "source": [
    "## Benign Sub-Classification Using Cancer Classification"
   ]
  },
  {
   "cell_type": "code",
   "execution_count": null,
   "metadata": {},
   "outputs": [],
   "source": [
    "Y_train_1=[]\n",
    "X_train_1=[]\n",
    "\n",
    "for i in range(0,len(Y_train)):\n",
    "    if(cancerclass_train[i]==1):\n",
    "        Y_train_1.append(cancertype_train[i])\n",
    "        X_train_1.append(X_train[i])\n",
    "    \n",
    "X_train_1=np.array(X_train_1)\n",
    "Y_train_1=np.array(Y_train_1)\n",
    "print(Y_train_1.size)\n",
    "\n",
    "Y_test_1=[]\n",
    "X_test_1=[]\n",
    "\n",
    "\n",
    "for i in range(0,len(Y_test)):\n",
    "    if(cancerclass_test[i]==1):\n",
    "        Y_test_1.append(cancertype_test[i])\n",
    "        X_test_1.append(X_test[i])\n",
    "    \n",
    "X_test_1=np.array(X_test_1)\n",
    "Y_test_1=np.array(Y_test_1)\n"
   ]
  },
  {
   "cell_type": "code",
   "execution_count": null,
   "metadata": {},
   "outputs": [],
   "source": []
  },
  {
   "cell_type": "code",
   "execution_count": 51,
   "metadata": {},
   "outputs": [],
   "source": [
    "classes=[11,12,13,14]"
   ]
  },
  {
   "cell_type": "code",
   "execution_count": 42,
   "metadata": {},
   "outputs": [
    {
     "name": "stdout",
     "output_type": "stream",
     "text": [
      "[1.]\n"
     ]
    }
   ],
   "source": []
  },
  {
   "cell_type": "code",
   "execution_count": 52,
   "metadata": {},
   "outputs": [],
   "source": [
    "from sklearn.utils.class_weight import compute_class_weight"
   ]
  },
  {
   "cell_type": "code",
   "execution_count": 53,
   "metadata": {},
   "outputs": [],
   "source": [
    "class_weight=compute_class_weight(class_weight='balanced', classes=classes,y=Y_train_1)"
   ]
  },
  {
   "cell_type": "code",
   "execution_count": 54,
   "metadata": {},
   "outputs": [
    {
     "name": "stdout",
     "output_type": "stream",
     "text": [
      "[1.66964286 0.51752768 1.67629482 1.14645777]\n"
     ]
    }
   ],
   "source": [
    "print(class_weight) "
   ]
  },
  {
   "cell_type": "code",
   "execution_count": 55,
   "metadata": {},
   "outputs": [
    {
     "name": "stdout",
     "output_type": "stream",
     "text": [
      "[11 12 13 14]\n"
     ]
    }
   ],
   "source": [
    "print(np.unique(Y_train_1))"
   ]
  },
  {
   "cell_type": "code",
   "execution_count": 56,
   "metadata": {},
   "outputs": [
    {
     "name": "stdout",
     "output_type": "stream",
     "text": [
      "1683\n"
     ]
    }
   ],
   "source": [
    "print(len(X_train_1))"
   ]
  },
  {
   "cell_type": "code",
   "execution_count": 57,
   "metadata": {},
   "outputs": [
    {
     "name": "stdout",
     "output_type": "stream",
     "text": [
      "792\n"
     ]
    }
   ],
   "source": [
    "print(len(Y_test_1))"
   ]
  },
  {
   "cell_type": "code",
   "execution_count": 58,
   "metadata": {},
   "outputs": [],
   "source": [
    "d = dict(enumerate(class_weight, 1))"
   ]
  },
  {
   "cell_type": "code",
   "execution_count": 59,
   "metadata": {},
   "outputs": [
    {
     "name": "stdout",
     "output_type": "stream",
     "text": [
      "{1: 1.6696428571428572, 2: 0.5175276752767528, 3: 1.6762948207171315, 4: 1.146457765667575}\n"
     ]
    }
   ],
   "source": [
    "print(d)"
   ]
  },
  {
   "cell_type": "code",
   "execution_count": 60,
   "metadata": {},
   "outputs": [],
   "source": [
    "d1={1:11,2:12,3:13,4:14}"
   ]
  },
  {
   "cell_type": "code",
   "execution_count": 61,
   "metadata": {},
   "outputs": [],
   "source": [
    "d=dict((d1[key], value) for (key, value) in d.items())"
   ]
  },
  {
   "cell_type": "code",
   "execution_count": 62,
   "metadata": {},
   "outputs": [
    {
     "data": {
      "text/plain": [
       "{11: 1.6696428571428572,\n",
       " 12: 0.5175276752767528,\n",
       " 13: 1.6762948207171315,\n",
       " 14: 1.146457765667575}"
      ]
     },
     "execution_count": 62,
     "metadata": {},
     "output_type": "execute_result"
    }
   ],
   "source": [
    "d"
   ]
  },
  {
   "cell_type": "code",
   "execution_count": null,
   "metadata": {},
   "outputs": [],
   "source": []
  },
  {
   "cell_type": "code",
   "execution_count": null,
   "metadata": {},
   "outputs": [],
   "source": []
  },
  {
   "cell_type": "code",
   "execution_count": 20,
   "metadata": {},
   "outputs": [
    {
     "name": "stderr",
     "output_type": "stream",
     "text": [
      "c:\\users\\karan gupta\\appdata\\local\\programs\\python\\python37\\lib\\site-packages\\ipykernel_launcher.py:7: DeprecationWarning: time.clock has been deprecated in Python 3.3 and will be removed from Python 3.8: use time.perf_counter or time.process_time instead\n",
      "  import sys\n",
      "c:\\users\\karan gupta\\appdata\\local\\programs\\python\\python37\\lib\\site-packages\\sklearn\\model_selection\\_search.py:841: DeprecationWarning: The default of the `iid` parameter will change from True to False in version 0.22 and will be removed in 0.24. This will change numeric results when test-set sizes are unequal.\n",
      "  DeprecationWarning)\n"
     ]
    },
    {
     "name": "stdout",
     "output_type": "stream",
     "text": [
      "1104.997306413 seconds\n",
      "0.6934046345811051\n",
      "{'svc__C': 0.01, 'svc__kernel': 'linear'}\n"
     ]
    },
    {
     "name": "stderr",
     "output_type": "stream",
     "text": [
      "c:\\users\\karan gupta\\appdata\\local\\programs\\python\\python37\\lib\\site-packages\\ipykernel_launcher.py:10: DeprecationWarning: time.clock has been deprecated in Python 3.3 and will be removed from Python 3.8: use time.perf_counter or time.process_time instead\n",
      "  # Remove the CWD from sys.path while we load stuff.\n"
     ]
    }
   ],
   "source": [
    "pipe_svc = make_pipeline(SVC(random_state=1,class_weight=d))\n",
    "gs3=GridSearchCV(estimator=pipe_svc, \n",
    "                  param_grid=param_grid, \n",
    "                  scoring='accuracy', \n",
    "                  cv=10,\n",
    "                  n_jobs=-1)\n",
    "start_time = time.clock()\n",
    "#Training of Model\n",
    "gs3.fit(X_train_1,Y_train_1)\n",
    "print(time.clock() - start_time, \"seconds\")\n",
    "\n",
    "print(gs3.best_score_)\n",
    "print(gs3.best_params_)"
   ]
  },
  {
   "cell_type": "code",
   "execution_count": 21,
   "metadata": {},
   "outputs": [
    {
     "name": "stdout",
     "output_type": "stream",
     "text": [
      "0.41414141414141414\n"
     ]
    }
   ],
   "source": [
    "clf4=gs3.best_estimator_\n",
    "clf4.fit(X_train_1,Y_train_1)\n",
    "print(clf4.score(X_test_1,Y_test_1))"
   ]
  },
  {
   "cell_type": "code",
   "execution_count": 63,
   "metadata": {},
   "outputs": [
    {
     "name": "stdout",
     "output_type": "stream",
     "text": [
      "0.41414141414141414\n"
     ]
    }
   ],
   "source": [
    "clf=SVC(C=.01,kernel='linear',class_weight=d)\n",
    "clf.fit(X_train_1,Y_train_1)\n",
    "print(clf.score(X_test_1,Y_test_1))"
   ]
  },
  {
   "cell_type": "code",
   "execution_count": 64,
   "metadata": {},
   "outputs": [
    {
     "data": {
      "text/plain": [
       "['models/SVM/SVM_Models_VGG16_CancerType_Benign.joblib']"
      ]
     },
     "execution_count": 64,
     "metadata": {},
     "output_type": "execute_result"
    }
   ],
   "source": [
    "dump(clf,'models/SVM/SVM_Models_VGG16_CancerType_Benign.joblib')"
   ]
  },
  {
   "cell_type": "markdown",
   "metadata": {},
   "source": [
    "## Malignant Sub-Classification Using Cancer Classification"
   ]
  },
  {
   "cell_type": "code",
   "execution_count": 5,
   "metadata": {},
   "outputs": [
    {
     "name": "stdout",
     "output_type": "stream",
     "text": [
      "4637\n"
     ]
    }
   ],
   "source": [
    "Y_train_2=[]\n",
    "X_train_2=[]\n",
    "\n",
    "for i in range(0,len(Y_train)):\n",
    "    if(cancerclass_train[i]==2):\n",
    "        Y_train_2.append(cancertype_train[i])\n",
    "        X_train_2.append(X_train[i])\n",
    "    \n",
    "X_train_2=np.array(X_train_2)\n",
    "Y_train_2=np.array(Y_train_2)\n",
    "print(Y_train_2.size)\n",
    "\n",
    "Y_test_2=[]\n",
    "X_test_2=[]\n",
    "\n",
    "for i in range(0,len(Y_test)):\n",
    "    if(cancerclass_test[i]==2):\n",
    "        Y_test_2.append(cancertype_test[i])\n",
    "        X_test_2.append(X_test[i])\n",
    "    \n",
    "X_test_2=np.array(X_test_2)\n",
    "Y_test_2=np.array(Y_test_2)"
   ]
  },
  {
   "cell_type": "code",
   "execution_count": 6,
   "metadata": {},
   "outputs": [],
   "source": [
    "classes=[21,22,23,24]"
   ]
  },
  {
   "cell_type": "code",
   "execution_count": 7,
   "metadata": {},
   "outputs": [],
   "source": [
    "from sklearn.utils.class_weight import compute_class_weight"
   ]
  },
  {
   "cell_type": "code",
   "execution_count": 8,
   "metadata": {},
   "outputs": [],
   "source": [
    "class_weight=compute_class_weight(class_weight='balanced', classes=classes,y=Y_train_2)"
   ]
  },
  {
   "cell_type": "code",
   "execution_count": 9,
   "metadata": {},
   "outputs": [
    {
     "name": "stdout",
     "output_type": "stream",
     "text": [
      "[0.35669231 2.72764706 1.96150592 3.12466307]\n"
     ]
    }
   ],
   "source": [
    "print(class_weight) "
   ]
  },
  {
   "cell_type": "code",
   "execution_count": 10,
   "metadata": {},
   "outputs": [
    {
     "name": "stdout",
     "output_type": "stream",
     "text": [
      "[21 22 23 24]\n"
     ]
    }
   ],
   "source": [
    "print(np.unique(Y_train_2))"
   ]
  },
  {
   "cell_type": "code",
   "execution_count": 11,
   "metadata": {},
   "outputs": [
    {
     "name": "stdout",
     "output_type": "stream",
     "text": [
      "4637\n"
     ]
    }
   ],
   "source": [
    "print(len(X_train_2))"
   ]
  },
  {
   "cell_type": "code",
   "execution_count": 12,
   "metadata": {},
   "outputs": [
    {
     "name": "stdout",
     "output_type": "stream",
     "text": [
      "788\n"
     ]
    }
   ],
   "source": [
    "print(len(Y_test_2))"
   ]
  },
  {
   "cell_type": "code",
   "execution_count": 13,
   "metadata": {},
   "outputs": [],
   "source": [
    "d = dict(enumerate(class_weight, 1))"
   ]
  },
  {
   "cell_type": "code",
   "execution_count": 14,
   "metadata": {},
   "outputs": [
    {
     "name": "stdout",
     "output_type": "stream",
     "text": [
      "{1: 0.3566923076923077, 2: 2.7276470588235293, 3: 1.9615059221658206, 4: 3.1246630727762805}\n"
     ]
    }
   ],
   "source": [
    "print(d)"
   ]
  },
  {
   "cell_type": "code",
   "execution_count": 15,
   "metadata": {},
   "outputs": [],
   "source": [
    "d1={1:21,2:22,3:23,4:24}"
   ]
  },
  {
   "cell_type": "code",
   "execution_count": 16,
   "metadata": {},
   "outputs": [],
   "source": [
    "d=dict((d1[key], value) for (key, value) in d.items())"
   ]
  },
  {
   "cell_type": "code",
   "execution_count": 17,
   "metadata": {},
   "outputs": [
    {
     "data": {
      "text/plain": [
       "{21: 0.3566923076923077,\n",
       " 22: 2.7276470588235293,\n",
       " 23: 1.9615059221658206,\n",
       " 24: 3.1246630727762805}"
      ]
     },
     "execution_count": 17,
     "metadata": {},
     "output_type": "execute_result"
    }
   ],
   "source": [
    "d"
   ]
  },
  {
   "cell_type": "code",
   "execution_count": 18,
   "metadata": {},
   "outputs": [
    {
     "name": "stderr",
     "output_type": "stream",
     "text": [
      "c:\\users\\karan gupta\\appdata\\local\\programs\\python\\python37\\lib\\site-packages\\ipykernel_launcher.py:7: DeprecationWarning: time.clock has been deprecated in Python 3.3 and will be removed from Python 3.8: use time.perf_counter or time.process_time instead\n",
      "  import sys\n",
      "c:\\users\\karan gupta\\appdata\\local\\programs\\python\\python37\\lib\\site-packages\\sklearn\\model_selection\\_search.py:841: DeprecationWarning: The default of the `iid` parameter will change from True to False in version 0.22 and will be removed in 0.24. This will change numeric results when test-set sizes are unequal.\n",
      "  DeprecationWarning)\n"
     ]
    },
    {
     "name": "stdout",
     "output_type": "stream",
     "text": [
      "9759.513311783001 seconds\n",
      "0.7088634893249947\n",
      "{'svc__C': 10.0, 'svc__gamma': 'auto', 'svc__kernel': 'rbf'}\n"
     ]
    },
    {
     "name": "stderr",
     "output_type": "stream",
     "text": [
      "c:\\users\\karan gupta\\appdata\\local\\programs\\python\\python37\\lib\\site-packages\\ipykernel_launcher.py:10: DeprecationWarning: time.clock has been deprecated in Python 3.3 and will be removed from Python 3.8: use time.perf_counter or time.process_time instead\n",
      "  # Remove the CWD from sys.path while we load stuff.\n"
     ]
    }
   ],
   "source": [
    "pipe_svc = make_pipeline(SVC(random_state=1,class_weight=d))\n",
    "gs3=GridSearchCV(estimator=pipe_svc, \n",
    "                  param_grid=param_grid, \n",
    "                  scoring='accuracy', \n",
    "                  cv=10,\n",
    "                  n_jobs=-1)\n",
    "start_time = time.clock()\n",
    "#Training of Model\n",
    "gs3.fit(X_train_2,Y_train_2)\n",
    "print(time.clock() - start_time, \"seconds\")\n",
    "\n",
    "print(gs3.best_score_)\n",
    "print(gs3.best_params_)"
   ]
  },
  {
   "cell_type": "code",
   "execution_count": 19,
   "metadata": {},
   "outputs": [
    {
     "name": "stdout",
     "output_type": "stream",
     "text": [
      "0.2779187817258883\n"
     ]
    }
   ],
   "source": [
    "clf4=gs3.best_estimator_\n",
    "clf4.fit(X_train_2,Y_train_2)\n",
    "print(clf4.score(X_test_2,Y_test_2))"
   ]
  },
  {
   "cell_type": "code",
   "execution_count": 20,
   "metadata": {},
   "outputs": [],
   "source": [
    "pred=clf4.predict(X_test_2)"
   ]
  },
  {
   "cell_type": "code",
   "execution_count": 21,
   "metadata": {},
   "outputs": [
    {
     "name": "stderr",
     "output_type": "stream",
     "text": [
      "c:\\users\\karan gupta\\appdata\\local\\programs\\python\\python37\\lib\\site-packages\\sklearn\\metrics\\classification.py:1143: UndefinedMetricWarning: Precision and F-score are ill-defined and being set to 0.0 in labels with no predicted samples.\n",
      "  'precision', 'predicted', average, warn_for)\n"
     ]
    },
    {
     "data": {
      "text/plain": [
       "(array([0.25945241, 1.        , 0.88888889, 0.        ]),\n",
       " array([0.995, 0.06 , 0.04 , 0.   ]),\n",
       " array([0.41158221, 0.11320755, 0.07655502, 0.        ]),\n",
       " array([200, 200, 200, 188], dtype=int64))"
      ]
     },
     "execution_count": 21,
     "metadata": {},
     "output_type": "execute_result"
    }
   ],
   "source": [
    "precision_recall_fscore_support(Y_test_2,pred)"
   ]
  },
  {
   "cell_type": "code",
   "execution_count": 22,
   "metadata": {},
   "outputs": [
    {
     "data": {
      "text/plain": [
       "array([[199,   0,   1,   0],\n",
       "       [188,  12,   0,   0],\n",
       "       [192,   0,   8,   0],\n",
       "       [188,   0,   0,   0]], dtype=int64)"
      ]
     },
     "execution_count": 22,
     "metadata": {},
     "output_type": "execute_result"
    }
   ],
   "source": [
    "confusion_matrix(Y_test_2,pred)"
   ]
  },
  {
   "cell_type": "code",
   "execution_count": 49,
   "metadata": {},
   "outputs": [
    {
     "data": {
      "text/plain": [
       "['models/SVM/SVM_models_VGG16_CancerType_Malignant.joblib']"
      ]
     },
     "execution_count": 49,
     "metadata": {},
     "output_type": "execute_result"
    }
   ],
   "source": [
    "dump(clf4,'models/SVM/SVM_models_VGG16_CancerType_Malignant.joblib')"
   ]
  },
  {
   "cell_type": "markdown",
   "metadata": {},
   "source": [
    "# Dumping Models"
   ]
  },
  {
   "cell_type": "code",
   "execution_count": 27,
   "metadata": {},
   "outputs": [
    {
     "data": {
      "text/plain": [
       "0.9018987341772152"
      ]
     },
     "execution_count": 27,
     "metadata": {},
     "output_type": "execute_result"
    }
   ],
   "source": [
    "clf=SVC(C=.001,kernel='linear')\n",
    "clf.fit(X_train,Y_train)\n",
    "clf.score(X_test,Y_test)"
   ]
  },
  {
   "cell_type": "code",
   "execution_count": 28,
   "metadata": {},
   "outputs": [
    {
     "data": {
      "text/plain": [
       "['models/SVM/SVM_models_VGG16_Magnification.joblib']"
      ]
     },
     "execution_count": 28,
     "metadata": {},
     "output_type": "execute_result"
    }
   ],
   "source": [
    "dump(clf,'models/SVM/SVM_models_VGG16_Magnification.joblib')"
   ]
  },
  {
   "cell_type": "code",
   "execution_count": 40,
   "metadata": {},
   "outputs": [
    {
     "data": {
      "text/plain": [
       "0.7858942065491183"
      ]
     },
     "execution_count": 40,
     "metadata": {},
     "output_type": "execute_result"
    }
   ],
   "source": [
    "clf=SVC(C=.001,kernel='linear')\n",
    "clf.fit(X_train_40,Y_train_40)\n",
    "clf.score(X_test_40,Y_test_40)"
   ]
  },
  {
   "cell_type": "code",
   "execution_count": 41,
   "metadata": {},
   "outputs": [
    {
     "data": {
      "text/plain": [
       "['models/SVM/SVM_models_VGG16_Magnification_40.joblib']"
      ]
     },
     "execution_count": 41,
     "metadata": {},
     "output_type": "execute_result"
    }
   ],
   "source": [
    "dump(clf,'models/SVM/SVM_models_VGG16_Magnification_40.joblib')"
   ]
  },
  {
   "cell_type": "code",
   "execution_count": 42,
   "metadata": {},
   "outputs": [
    {
     "data": {
      "text/plain": [
       "0.8520408163265306"
      ]
     },
     "execution_count": 42,
     "metadata": {},
     "output_type": "execute_result"
    }
   ],
   "source": [
    "clf=SVC(C=.01,kernel='linear')\n",
    "clf.fit(X_train_100,Y_train_100)\n",
    "clf.score(X_test_100,Y_test_100)"
   ]
  },
  {
   "cell_type": "code",
   "execution_count": 43,
   "metadata": {},
   "outputs": [
    {
     "data": {
      "text/plain": [
       "['models/SVM/SVM_models_VGG16_Magnification_100.joblib']"
      ]
     },
     "execution_count": 43,
     "metadata": {},
     "output_type": "execute_result"
    }
   ],
   "source": [
    "dump(clf,'models/SVM/SVM_models_VGG16_Magnification_100.joblib')"
   ]
  },
  {
   "cell_type": "code",
   "execution_count": 44,
   "metadata": {},
   "outputs": [
    {
     "data": {
      "text/plain": [
       "0.8197969543147208"
      ]
     },
     "execution_count": 44,
     "metadata": {},
     "output_type": "execute_result"
    }
   ],
   "source": [
    "clf=SVC(C=.001,kernel='linear')\n",
    "clf.fit(X_train_200,Y_train_200)\n",
    "clf.score(X_test_200,Y_test_200)"
   ]
  },
  {
   "cell_type": "code",
   "execution_count": 45,
   "metadata": {},
   "outputs": [
    {
     "data": {
      "text/plain": [
       "['models/SVM/SVM_models_VGG16_Magnification_200.joblib']"
      ]
     },
     "execution_count": 45,
     "metadata": {},
     "output_type": "execute_result"
    }
   ],
   "source": [
    "dump(clf,'models/SVM/SVM_models_VGG16_Magnification_200.joblib')"
   ]
  },
  {
   "cell_type": "code",
   "execution_count": 46,
   "metadata": {},
   "outputs": [
    {
     "data": {
      "text/plain": [
       "0.7959697732997482"
      ]
     },
     "execution_count": 46,
     "metadata": {},
     "output_type": "execute_result"
    }
   ],
   "source": [
    "clf=SVC(C=.001,kernel='linear')\n",
    "clf.fit(X_train_400,Y_train_400)\n",
    "clf.score(X_test_400,Y_test_400)"
   ]
  },
  {
   "cell_type": "code",
   "execution_count": 47,
   "metadata": {},
   "outputs": [
    {
     "data": {
      "text/plain": [
       "['models/SVM/SVM_models_VGG16_Magnification_400.joblib']"
      ]
     },
     "execution_count": 47,
     "metadata": {},
     "output_type": "execute_result"
    }
   ],
   "source": [
    "dump(clf,'models/SVM/SVM_models_VGG16_Magnification_400.joblib')"
   ]
  },
  {
   "cell_type": "code",
   "execution_count": null,
   "metadata": {},
   "outputs": [],
   "source": []
  },
  {
   "cell_type": "code",
   "execution_count": null,
   "metadata": {},
   "outputs": [],
   "source": []
  },
  {
   "cell_type": "code",
   "execution_count": null,
   "metadata": {},
   "outputs": [],
   "source": []
  },
  {
   "cell_type": "code",
   "execution_count": null,
   "metadata": {},
   "outputs": [],
   "source": []
  },
  {
   "cell_type": "code",
   "execution_count": null,
   "metadata": {},
   "outputs": [],
   "source": []
  },
  {
   "cell_type": "code",
   "execution_count": null,
   "metadata": {},
   "outputs": [],
   "source": []
  },
  {
   "cell_type": "code",
   "execution_count": null,
   "metadata": {},
   "outputs": [],
   "source": []
  },
  {
   "cell_type": "code",
   "execution_count": null,
   "metadata": {},
   "outputs": [],
   "source": []
  }
 ],
 "metadata": {
  "kernelspec": {
   "display_name": "Python 3",
   "language": "python",
   "name": "python3"
  },
  "language_info": {
   "codemirror_mode": {
    "name": "ipython",
    "version": 3
   },
   "file_extension": ".py",
   "mimetype": "text/x-python",
   "name": "python",
   "nbconvert_exporter": "python",
   "pygments_lexer": "ipython3",
   "version": "3.7.2"
  }
 },
 "nbformat": 4,
 "nbformat_minor": 2
}
