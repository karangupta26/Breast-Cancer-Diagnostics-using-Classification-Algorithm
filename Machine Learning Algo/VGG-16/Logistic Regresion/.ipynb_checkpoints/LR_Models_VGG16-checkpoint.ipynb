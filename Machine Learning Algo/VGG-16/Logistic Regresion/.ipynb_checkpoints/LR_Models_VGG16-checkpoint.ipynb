{
 "cells": [
  {
   "cell_type": "markdown",
   "metadata": {},
   "source": [
    "# Library Import"
   ]
  },
  {
   "cell_type": "code",
   "execution_count": 9,
   "metadata": {},
   "outputs": [],
   "source": [
    "import os\n",
    "import pandas as pd\n",
    "import numpy as np\n",
    "import pickle\n",
    "import time\n",
    "# Machine Learning Algorithms\n",
    "from sklearn.model_selection import GridSearchCV\n",
    "from sklearn.linear_model import LogisticRegression\n",
    "from sklearn.pipeline import make_pipeline\n",
    "# Metrics\n",
    "from sklearn.metrics import confusion_matrix\n",
    "from sklearn.metrics import precision_score,recall_score,f1_score"
   ]
  },
  {
   "cell_type": "markdown",
   "metadata": {},
   "source": [
    "# Magnification Identification"
   ]
  },
  {
   "cell_type": "code",
   "execution_count": 2,
   "metadata": {},
   "outputs": [],
   "source": [
    "train_path=\"A:\\\\Projects\\\\Major Project\\\\CNN\\\\VGG16\\\\train\"\n",
    "test_path=\"A:\\\\Projects\\\\Major Project\\\\CNN\\\\VGG16\\\\test\""
   ]
  },
  {
   "cell_type": "code",
   "execution_count": 37,
   "metadata": {},
   "outputs": [],
   "source": [
    "# Training Paths\n",
    "X_train=np.load(train_path+\"\\\\data_cnn_VGG16_train.npy\")\n",
    "Y_train=np.load(train_path+\"\\\\data_mag_VGG16_train.npy\")\n",
    "# Cancer\n",
    "cancerclass_train=np.load(train_path+\"\\\\data_cancerclass_VGG16_train.npy\")\n",
    "# Testing Paths\n",
    "X_test=np.load(test_path+\"\\\\data_cnn_VGG16_test.npy\")\n",
    "Y_test=np.load(test_path+\"\\\\data_mag_VGG16_test.npy\")\n",
    "# Cancer\n",
    "cancerclass_test=np.load(test_path+\"\\\\data_cancerclass_VGG16_test.npy\")"
   ]
  },
  {
   "cell_type": "code",
   "execution_count": 11,
   "metadata": {},
   "outputs": [
    {
     "name": "stderr",
     "output_type": "stream",
     "text": [
      "c:\\users\\karan gupta\\appdata\\local\\programs\\python\\python37\\lib\\site-packages\\ipykernel_launcher.py:2: DeprecationWarning: time.clock has been deprecated in Python 3.3 and will be removed from Python 3.8: use time.perf_counter or time.process_time instead\n",
      "  \n",
      "c:\\users\\karan gupta\\appdata\\local\\programs\\python\\python37\\lib\\site-packages\\sklearn\\linear_model\\logistic.py:433: FutureWarning: Default solver will be changed to 'lbfgs' in 0.22. Specify a solver to silence this warning.\n",
      "  FutureWarning)\n",
      "c:\\users\\karan gupta\\appdata\\local\\programs\\python\\python37\\lib\\site-packages\\sklearn\\linear_model\\logistic.py:460: FutureWarning: Default multi_class will be changed to 'auto' in 0.22. Specify the multi_class option to silence this warning.\n",
      "  \"this warning.\", FutureWarning)\n"
     ]
    },
    {
     "name": "stdout",
     "output_type": "stream",
     "text": [
      "75.7049726360001 seconds\n"
     ]
    },
    {
     "name": "stderr",
     "output_type": "stream",
     "text": [
      "c:\\users\\karan gupta\\appdata\\local\\programs\\python\\python37\\lib\\site-packages\\ipykernel_launcher.py:5: DeprecationWarning: time.clock has been deprecated in Python 3.3 and will be removed from Python 3.8: use time.perf_counter or time.process_time instead\n",
      "  \"\"\"\n"
     ]
    }
   ],
   "source": [
    "lr_pipe=make_pipeline(LogisticRegression())\n",
    "param_range=[.01,.1,1,10,100]\n",
    "param_grid={'C':param_range}\n",
    "gs=GridSearchCV(estimator=lr_pipe,param_grid=param_grid,scoring=\"accuracy\",cv=10,njobs=-1)\n",
    "\n",
    "start_time = time.clock()\n",
    "#Training of Model\n",
    "gs.fit(X_train,Y_train)\n",
    "print(time.clock() - start_time, \"seconds\")\n",
    "\n",
    "print(gs.best_score_)\n",
    "print(gs.best_params_)"
   ]
  },
  {
   "cell_type": "code",
   "execution_count": 17,
   "metadata": {},
   "outputs": [],
   "source": []
  },
  {
   "cell_type": "code",
   "execution_count": 24,
   "metadata": {},
   "outputs": [
    {
     "name": "stdout",
     "output_type": "stream",
     "text": [
      "precision- [0.9015544  0.82480818 0.80912863 0.90208668]\n",
      "Recall- [0.93422819 0.84980237 0.78734859 0.86064319]\n",
      "F1_acore- [0.91760053 0.83711875 0.79809004 0.88087774]\n"
     ]
    }
   ],
   "source": []
  },
  {
   "cell_type": "code",
   "execution_count": null,
   "metadata": {},
   "outputs": [],
   "source": []
  },
  {
   "cell_type": "code",
   "execution_count": null,
   "metadata": {},
   "outputs": [],
   "source": []
  },
  {
   "cell_type": "markdown",
   "metadata": {},
   "source": [
    "# CancerClass Identification"
   ]
  },
  {
   "cell_type": "code",
   "execution_count": 38,
   "metadata": {},
   "outputs": [],
   "source": [
    "\n",
    "Y_train_40=[]\n",
    "X_train_40=[]\n",
    "\n",
    "Y_train_100=[]\n",
    "X_train_100=[]\n",
    "\n",
    "Y_train_200=[]\n",
    "X_train_200=[]\n",
    "\n",
    "Y_train_400=[]\n",
    "X_train_400=[]\n",
    "\n",
    "for i in range(0,len(Y_train)):\n",
    "    if(Y_train[i]==40):\n",
    "        Y_train_40.append(cancerclass_train[i])\n",
    "        X_train_40.append(X_train[i])\n",
    "    if(Y_train[i]==100):\n",
    "        Y_train_100.append(cancerclass_train[i])\n",
    "        X_train_100.append(X_train[i])\n",
    "    if(Y_train[i]==200):\n",
    "        Y_train_200.append(cancerclass_train[i])\n",
    "        X_train_200.append(X_train[i])\n",
    "    if(Y_train[i]==400):\n",
    "        Y_train_400.append(cancerclass_train[i])\n",
    "        X_train_400.append(X_train[i])\n"
   ]
  },
  {
   "cell_type": "code",
   "execution_count": 39,
   "metadata": {},
   "outputs": [],
   "source": [
    "X_train_40=np.array(X_train_40)\n",
    "X_train_100=np.array(X_train_100)\n",
    "X_train_200=np.array(X_train_200)\n",
    "X_train_400=np.array(X_train_400)\n",
    "Y_train_40=np.array(Y_train_40)\n",
    "Y_train_100=np.array(Y_train_100)\n",
    "Y_train_200=np.array(Y_train_200)\n",
    "Y_train_400=np.array(Y_train_400)"
   ]
  },
  {
   "cell_type": "code",
   "execution_count": 42,
   "metadata": {},
   "outputs": [],
   "source": [
    "\n",
    "Y_test_40=[]\n",
    "X_test_40=[]\n",
    "\n",
    "Y_test_100=[]\n",
    "X_test_100=[]\n",
    "\n",
    "Y_test_200=[]\n",
    "X_test_200=[]\n",
    "\n",
    "Y_test_400=[]\n",
    "X_test_400=[]\n",
    "\n",
    "for i in range(0,len(Y_test)):\n",
    "    if(Y_test[i]==40):\n",
    "        Y_test_40.append(cancerclass_test[i])\n",
    "        X_test_40.append(X_train[i])\n",
    "    if(Y_test[i]==100):\n",
    "        Y_test_100.append(cancerclass_test[i])\n",
    "        X_test_100.append(X_train[i])\n",
    "    if(Y_test[i]==200):\n",
    "        Y_test_200.append(cancerclass_test[i])\n",
    "        X_test_200.append(X_train[i])\n",
    "    if(Y_test[i]==400):\n",
    "        Y_test_400.append(cancerclass_test[i])\n",
    "        X_test_400.append(X_train[i])\n"
   ]
  },
  {
   "cell_type": "code",
   "execution_count": 43,
   "metadata": {},
   "outputs": [],
   "source": [
    "X_test_40=np.array(X_train_40)\n",
    "X_test_100=np.array(X_test_100)\n",
    "X_test_200=np.array(X_test_200)\n",
    "X_test_400=np.array(X_test_400)\n",
    "Y_test_40=np.array(Y_test_40)\n",
    "Y_test_100=np.array(Y_test_100)\n",
    "Y_test_200=np.array(Y_test_200)\n",
    "Y_test_400=np.array(Y_test_400)"
   ]
  },
  {
   "cell_type": "code",
   "execution_count": 45,
   "metadata": {},
   "outputs": [
    {
     "name": "stdout",
     "output_type": "stream",
     "text": [
      "<class 'sklearn.linear_model.logistic.LogisticRegression'>\n"
     ]
    }
   ],
   "source": []
  },
  {
   "cell_type": "code",
   "execution_count": null,
   "metadata": {},
   "outputs": [],
   "source": [
    "gs1=GridSearchCV(estimator=lr_pipe,param_grid=param_grid,scoring=\"accuracy\",cv=10,njobs=-1)\n",
    "\n",
    "start_time = time.clock()\n",
    "#Training of Model\n",
    "gs1.fit(X_train_40,Y_train_40)\n",
    "print(time.clock() - start_time, \"seconds\")\n",
    "\n",
    "print(gs1.best_score_)\n",
    "print(gs1.best_params_)"
   ]
  },
  {
   "cell_type": "code",
   "execution_count": null,
   "metadata": {},
   "outputs": [],
   "source": []
  },
  {
   "cell_type": "code",
   "execution_count": null,
   "metadata": {},
   "outputs": [],
   "source": [
    "gs2=GridSearchCV(estimator=lr_pipe,param_grid=param_grid,scoring=\"accuracy\",cv=10,njobs=-1)\n",
    "\n",
    "start_time = time.clock()\n",
    "#Training of Model\n",
    "gs2.fit(X_train_100,Y_train_100)\n",
    "print(time.clock() - start_time, \"seconds\")\n",
    "\n",
    "print(gs2.best_score_)\n",
    "print(gs2.best_params_)"
   ]
  },
  {
   "cell_type": "code",
   "execution_count": null,
   "metadata": {},
   "outputs": [],
   "source": []
  },
  {
   "cell_type": "code",
   "execution_count": null,
   "metadata": {},
   "outputs": [],
   "source": [
    "gs3=GridSearchCV(estimator=lr_pipe,param_grid=param_grid,scoring=\"accuracy\",cv=10,njobs=-1)\n",
    "\n",
    "start_time = time.clock()\n",
    "#Training of Model\n",
    "gs3.fit(X_train_200,Y_train_200)\n",
    "print(time.clock() - start_time, \"seconds\")\n",
    "\n",
    "print(gs3.best_score_)\n",
    "print(gs3.best_params_)"
   ]
  },
  {
   "cell_type": "code",
   "execution_count": null,
   "metadata": {},
   "outputs": [],
   "source": []
  },
  {
   "cell_type": "code",
   "execution_count": null,
   "metadata": {},
   "outputs": [],
   "source": [
    "gs4=GridSearchCV(estimator=lr_pipe,param_grid=param_grid,scoring=\"accuracy\",cv=10,njobs=-1)\n",
    "\n",
    "start_time = time.clock()\n",
    "#Training of Model\n",
    "gs4.fit(X_train_400,Y_train_400)\n",
    "print(time.clock() - start_time, \"seconds\")\n",
    "\n",
    "print(gs4.best_score_)\n",
    "print(gs4.best_params_)"
   ]
  }
 ],
 "metadata": {
  "kernelspec": {
   "display_name": "Python 3",
   "language": "python",
   "name": "python3"
  },
  "language_info": {
   "codemirror_mode": {
    "name": "ipython",
    "version": 3
   },
   "file_extension": ".py",
   "mimetype": "text/x-python",
   "name": "python",
   "nbconvert_exporter": "python",
   "pygments_lexer": "ipython3",
   "version": "3.7.2"
  }
 },
 "nbformat": 4,
 "nbformat_minor": 2
}
