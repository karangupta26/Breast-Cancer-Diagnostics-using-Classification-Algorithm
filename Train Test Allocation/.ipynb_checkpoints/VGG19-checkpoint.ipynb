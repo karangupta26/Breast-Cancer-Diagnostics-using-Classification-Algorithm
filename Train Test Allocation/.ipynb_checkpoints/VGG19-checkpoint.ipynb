{
 "cells": [
  {
   "cell_type": "code",
   "execution_count": 1,
   "metadata": {},
   "outputs": [],
   "source": [
    "import pandas as pd\n",
    "from scipy import stats\n",
    "import numpy as np"
   ]
  },
  {
   "cell_type": "code",
   "execution_count": 2,
   "metadata": {},
   "outputs": [],
   "source": [
    "train_path=\"A:\\\\Projects\\\\Major Project\\\\CNN New\\\\VGG19\\\\train\"\n",
    "test_path=\"A:\\\\Projects\\\\Major Project\\\\CNN New\\\\VGG19\\\\test\""
   ]
  },
  {
   "cell_type": "code",
   "execution_count": 3,
   "metadata": {},
   "outputs": [],
   "source": [
    "# Training Paths \n",
    "data_train=np.load(train_path+\"\\\\data_cnn_VGG19_train.npy\")\n",
    "filenames_train=np.load(train_path+\"\\\\data_filenames_VGG19_train.npy\")\n",
    "mag_train=np.load(train_path+\"\\\\data_mag_VGG19_train.npy\")\n",
    "cancerclass_train=np.load(train_path+\"\\\\data_cancerclass_VGG19_train.npy\")\n",
    "cancertype_train=np.load(train_path+\"\\\\data_cancertype_VGG19_train.npy\")\n",
    "\n",
    "# Testing Paths \n",
    "data_test=np.load(test_path+\"\\\\data_cnn_VGG19_test.npy\")\n",
    "filenames_test=np.load(test_path+\"\\\\data_filenames_VGG19_test.npy\")\n",
    "mag_test=np.load(test_path+\"\\\\data_mag_VGG19_test.npy\")\n",
    "cancerclass_test=np.load(test_path+\"\\\\data_cancerclass_VGG19_test.npy\")\n",
    "cancertype_test=np.load(test_path+\"\\\\data_cancertype_VGG19_test.npy\")"
   ]
  },
  {
   "cell_type": "code",
   "execution_count": 4,
   "metadata": {},
   "outputs": [],
   "source": [
    "# New Array as List\n",
    "new_data_test=[]\n",
    "new_filenames_test=[]\n",
    "new_mag_test=[]\n",
    "new_cancerclass_test=[]\n",
    "new_cancertype_test=[]\n",
    "\n",
    "#Counter\n",
    "C4011=0\n",
    "C10011=0\n",
    "C20011=0\n",
    "C40011=0\n",
    "\n",
    "C4012=0\n",
    "C10012=0\n",
    "C20012=0\n",
    "C40012=0\n",
    "\n",
    "C4013=0\n",
    "C10013=0\n",
    "C20013=0\n",
    "C40013=0\n",
    "\n",
    "C4014=0\n",
    "C10014=0\n",
    "C20014=0\n",
    "C40014=0\n",
    "\n",
    "C4021=0\n",
    "C10021=0\n",
    "C20021=0\n",
    "C40021=0\n",
    "\n",
    "C4022=0\n",
    "C10022=0\n",
    "C20022=0\n",
    "C40022=0\n",
    "\n",
    "C4023=0\n",
    "C10023=0\n",
    "C20023=0\n",
    "C40023=0\n",
    "\n",
    "C4024=0\n",
    "C10024=0\n",
    "C20024=0\n",
    "C40024=0\n",
    "\n",
    "\n",
    "\n",
    "index=[]\n",
    "\n",
    "#List as Set\n",
    "cancertype40=[11,12,13,14,21,22,23,24]\n",
    "cancertype100=[11,12,13,14,21,22,23,24]\n",
    "cancertype200=[11,12,13,14,21,22,23,24]\n",
    "cancertype400=[11,12,13,14,21,22,23,24]\n"
   ]
  },
  {
   "cell_type": "code",
   "execution_count": 5,
   "metadata": {},
   "outputs": [],
   "source": [
    "for i in range(0,len(cancertype_test)):\n",
    "    #print(type(cancertype40))\n",
    "    \n",
    "    if ((mag_test[i]==40) and (cancertype_test[i] in cancertype40) and (C4011<50 or C4012<50 or C4013<50 or C4014<50 or C4021<50 or C4022<50 or C4023<50 or C4024<50)):\n",
    "        #C40=C40+1\n",
    "        if (cancertype_test[i]==11):\n",
    "            C4011=C4011+1\n",
    "            \n",
    "        elif (cancertype_test[i]==12):\n",
    "            C4012=C4012+1\n",
    "            \n",
    "        elif (cancertype_test[i]==13):\n",
    "            C4013=C4013+1\n",
    "            \n",
    "        elif (cancertype_test[i]==14):\n",
    "            C4014=C4014+1\n",
    "            \n",
    "        elif (cancertype_test[i]==21):\n",
    "            C4021=C4021+1\n",
    "            \n",
    "        elif (cancertype_test[i]==22):\n",
    "            C4022=C4022+1\n",
    "            \n",
    "        elif (cancertype_test[i]==23):\n",
    "            C4023=C4023+1\n",
    "            \n",
    "        elif (cancertype_test[i]==24):\n",
    "            C4024=C4024+1\n",
    "            \n",
    "        new_data_test.append(data_test[i])\n",
    "        new_filenames_test.append(filenames_test[i])\n",
    "        new_mag_test.append(mag_test[i])\n",
    "        new_cancerclass_test.append(cancerclass_test[i])\n",
    "        new_cancertype_test.append(cancertype_test[i])\n",
    "        index.append(i)\n",
    "        \n",
    "    elif ((mag_test[i]==100) and (cancertype_test[i] in cancertype100) and (C10011<50 or C10012<50 or C10013<50 or C10014<50 or C10021<50 or C10022<50 or C10023<50 or C10024<50)):\n",
    "        #C40=C40+1\n",
    "        if (cancertype_test[i]==11):\n",
    "            C10011=C10011+1\n",
    "            \n",
    "        elif (cancertype_test[i]==12):\n",
    "            C10012=C10012+1\n",
    "            \n",
    "        elif (cancertype_test[i]==13):\n",
    "            C10013=C10013+1\n",
    "            \n",
    "        elif (cancertype_test[i]==14):\n",
    "            C10014=C10014+1\n",
    "            \n",
    "        elif (cancertype_test[i]==21):\n",
    "            C10021=C10021+1\n",
    "            \n",
    "        elif (cancertype_test[i]==22):\n",
    "            C10022=C10022+1\n",
    "            \n",
    "        elif (cancertype_test[i]==23):\n",
    "            C10023=C10023+1\n",
    "            \n",
    "        elif (cancertype_test[i]==24):\n",
    "            C10024=C10024+1\n",
    "            \n",
    "        new_data_test.append(data_test[i])\n",
    "        new_filenames_test.append(filenames_test[i])\n",
    "        new_mag_test.append(mag_test[i])\n",
    "        new_cancerclass_test.append(cancerclass_test[i])\n",
    "        new_cancertype_test.append(cancertype_test[i])\n",
    "        index.append(i)\n",
    "        \n",
    "    if ((mag_test[i]==200) and (cancertype_test[i] in cancertype200) and (C20011<50 or C20012<50 or C20013<50 or C20014<50 or C20021<50 or C20022<50 or C20023<50 or C20024<50)):\n",
    "        #C40=C40+1\n",
    "        if (cancertype_test[i]==11):\n",
    "            C20011=C20011+1\n",
    "            \n",
    "        elif (cancertype_test[i]==12):\n",
    "            C20012=C20012+1\n",
    "            \n",
    "        elif (cancertype_test[i]==13):\n",
    "            C20013=C20013+1\n",
    "            \n",
    "        elif (cancertype_test[i]==14):\n",
    "            C20014=C20014+1\n",
    "            \n",
    "        elif (cancertype_test[i]==21):\n",
    "            C20021=C20021+1\n",
    "            \n",
    "        elif (cancertype_test[i]==22):\n",
    "            C20022=C20022+1\n",
    "            \n",
    "        elif (cancertype_test[i]==23):\n",
    "            C20023=C20023+1\n",
    "            \n",
    "        elif (cancertype_test[i]==24):\n",
    "            C20024=C20024+1\n",
    "            \n",
    "        new_data_test.append(data_test[i])\n",
    "        new_filenames_test.append(filenames_test[i])\n",
    "        new_mag_test.append(mag_test[i])\n",
    "        new_cancerclass_test.append(cancerclass_test[i])\n",
    "        new_cancertype_test.append(cancertype_test[i])\n",
    "        index.append(i)\n",
    "        \n",
    "    if ((mag_test[i]==400) and (cancertype_test[i] in cancertype400) and (C40011<50 or C40012<50 or C40013<51 or C40014<50 or C40021<50 or C40022<50 or C40023<50 or C40024<50)):\n",
    "        #C40=C40+1\n",
    "        if (cancertype_test[i]==11):\n",
    "            C40011=C40011+1\n",
    "            \n",
    "        elif (cancertype_test[i]==12):\n",
    "            C40012=C40012+1\n",
    "            \n",
    "        elif (cancertype_test[i]==13):\n",
    "            C40013=C40013+1\n",
    "            \n",
    "        elif (cancertype_test[i]==14):\n",
    "            C40014=C40014+1\n",
    "            \n",
    "        elif (cancertype_test[i]==21):\n",
    "            C40021=C40021+1\n",
    "            \n",
    "        elif (cancertype_test[i]==22):\n",
    "            C40022=C40022+1\n",
    "            \n",
    "        elif (cancertype_test[i]==23):\n",
    "            C40023=C40023+1\n",
    "            \n",
    "        elif (cancertype_test[i]==24):\n",
    "            C40024=C40024+1\n",
    "            \n",
    "        new_data_test.append(data_test[i])\n",
    "        new_filenames_test.append(filenames_test[i])\n",
    "        new_mag_test.append(mag_test[i])\n",
    "        new_cancerclass_test.append(cancerclass_test[i])\n",
    "        new_cancertype_test.append(cancertype_test[i])\n",
    "        index.append(i)\n",
    "        \n",
    "    if (C4011==50 and 11 in cancertype40):\n",
    "        cancertype40.remove(11)\n",
    "        \n",
    "    if (C4012==50 and 12 in cancertype40):\n",
    "        cancertype40.remove(12)\n",
    "        \n",
    "    if (C4013==50 and 13 in cancertype40): \n",
    "        cancertype40.remove(13)\n",
    "        \n",
    "    if (C4014==50 and 14 in cancertype40):\n",
    "        cancertype40.remove(14)\n",
    "        \n",
    "    if (C4021==50 and 21 in cancertype40):\n",
    "        cancertype40.remove(21)\n",
    "        \n",
    "    if (C4022==50 and 22 in cancertype40):\n",
    "        cancertype40.remove(22)\n",
    "        \n",
    "    if (C4023==50 and 23 in cancertype40): \n",
    "        cancertype40.remove(23)\n",
    "        \n",
    "    if (C4024==50 and 24 in cancertype40):\n",
    "        cancertype40.remove(24)\n",
    "        \n",
    "    \n",
    "    if (C10011==50 and 11 in cancertype100):\n",
    "        cancertype100.remove(11)\n",
    "        \n",
    "    if (C10012==50 and 12 in cancertype100):\n",
    "        cancertype100.remove(12)\n",
    "        \n",
    "    if (C10013==50 and 13 in cancertype100): \n",
    "        cancertype100.remove(13)\n",
    "        \n",
    "    if (C10014==50 and 14 in cancertype100):\n",
    "        cancertype100.remove(14)\n",
    "        \n",
    "    if (C10021==50 and 21 in cancertype100):\n",
    "        cancertype100.remove(21)\n",
    "        \n",
    "    if (C10022==50 and 22 in cancertype100):\n",
    "        cancertype100.remove(22)\n",
    "        \n",
    "    if (C10023==50 and 23 in cancertype100): \n",
    "        cancertype100.remove(23)\n",
    "        \n",
    "    if (C10024==50 and 24 in cancertype100):\n",
    "        cancertype100.remove(24)\n",
    "        \n",
    "\n",
    "    if (C20011==50 and 11 in cancertype200):\n",
    "        cancertype200.remove(11)\n",
    "        \n",
    "    if (C20012==50 and 12 in cancertype200):\n",
    "        cancertype200.remove(12)\n",
    "        \n",
    "    if (C20013==50 and 13 in cancertype200): \n",
    "        cancertype200.remove(13)\n",
    "        \n",
    "    if (C20014==50 and 14 in cancertype200):\n",
    "        cancertype200.remove(14)\n",
    "        \n",
    "    if (C20021==50 and 21 in cancertype200):\n",
    "        cancertype200.remove(21)\n",
    "        \n",
    "    if (C20022==50 and 22 in cancertype200):\n",
    "        cancertype200.remove(22)\n",
    "        \n",
    "    if (C20023==50 and 23 in cancertype200): \n",
    "        cancertype200.remove(23)\n",
    "        \n",
    "    if (C20024==50 and 24 in cancertype200):\n",
    "        cancertype200.remove(24)\n",
    "        \n",
    "        \n",
    "    if (C40011==50 and 11 in cancertype400):\n",
    "        cancertype400.remove(11)\n",
    "        \n",
    "    if (C40012==50 and 12 in cancertype400):\n",
    "        cancertype400.remove(12)\n",
    "        \n",
    "    if (C40013==51 and 13 in cancertype400): \n",
    "        cancertype400.remove(13)\n",
    "        \n",
    "    if (C40014==50 and 14 in cancertype400):\n",
    "        cancertype400.remove(14)\n",
    "        \n",
    "    if (C40021==50 and 21 in cancertype400):\n",
    "        cancertype400.remove(21)\n",
    "        \n",
    "    if (C40022==50 and 22 in cancertype400):\n",
    "        cancertype400.remove(22)\n",
    "        \n",
    "    if (C40023==50 and 23 in cancertype400): \n",
    "        cancertype400.remove(23)\n",
    "        \n",
    "    if (C40024==50 and 24 in cancertype400):\n",
    "        cancertype400.remove(24)\n",
    "        \n",
    "        "
   ]
  },
  {
   "cell_type": "code",
   "execution_count": 6,
   "metadata": {},
   "outputs": [
    {
     "name": "stderr",
     "output_type": "stream",
     "text": [
      "c:\\users\\karan gupta\\appdata\\local\\programs\\python\\python37\\lib\\site-packages\\ipykernel_launcher.py:1: DeprecationWarning: `itemfreq` is deprecated!\n",
      "`itemfreq` is deprecated and will be removed in a future version. Use instead `np.unique(..., return_counts=True)`\n",
      "  \"\"\"Entry point for launching an IPython kernel.\n"
     ]
    },
    {
     "data": {
      "text/plain": [
       "array([[ 11, 191],\n",
       "       [ 12, 200],\n",
       "       [ 13, 201],\n",
       "       [ 14, 200],\n",
       "       [ 21, 200],\n",
       "       [ 22, 200],\n",
       "       [ 23, 200],\n",
       "       [ 24, 188]], dtype=int64)"
      ]
     },
     "execution_count": 6,
     "metadata": {},
     "output_type": "execute_result"
    }
   ],
   "source": [
    "stats.itemfreq(new_cancertype_test)"
   ]
  },
  {
   "cell_type": "code",
   "execution_count": 7,
   "metadata": {},
   "outputs": [
    {
     "name": "stderr",
     "output_type": "stream",
     "text": [
      "c:\\users\\karan gupta\\appdata\\local\\programs\\python\\python37\\lib\\site-packages\\ipykernel_launcher.py:1: DeprecationWarning: `itemfreq` is deprecated!\n",
      "`itemfreq` is deprecated and will be removed in a future version. Use instead `np.unique(..., return_counts=True)`\n",
      "  \"\"\"Entry point for launching an IPython kernel.\n"
     ]
    },
    {
     "data": {
      "text/plain": [
       "array([[ 40, 397],\n",
       "       [100, 392],\n",
       "       [200, 394],\n",
       "       [400, 397]], dtype=int64)"
      ]
     },
     "execution_count": 7,
     "metadata": {},
     "output_type": "execute_result"
    }
   ],
   "source": [
    "stats.itemfreq(new_mag_test)"
   ]
  },
  {
   "cell_type": "code",
   "execution_count": null,
   "metadata": {},
   "outputs": [],
   "source": []
  },
  {
   "cell_type": "code",
   "execution_count": 8,
   "metadata": {},
   "outputs": [
    {
     "name": "stdout",
     "output_type": "stream",
     "text": [
      "1580\n",
      "1580\n",
      "1580\n",
      "1580\n",
      "1580\n"
     ]
    }
   ],
   "source": [
    "print(len(new_data_test))\n",
    "print(len(new_filenames_test))\n",
    "print(len(new_mag_test))\n",
    "print(len(new_cancerclass_test))\n",
    "print(len(new_cancertype_test))"
   ]
  },
  {
   "cell_type": "code",
   "execution_count": 9,
   "metadata": {},
   "outputs": [
    {
     "name": "stdout",
     "output_type": "stream",
     "text": [
      "1580\n"
     ]
    }
   ],
   "source": [
    "print(len(index))"
   ]
  },
  {
   "cell_type": "code",
   "execution_count": 10,
   "metadata": {},
   "outputs": [],
   "source": [
    "data_test=np.delete(data_test,index,axis=0)\n",
    "filenames_test=np.delete(filenames_test,index)\n",
    "mag_test=np.delete(mag_test,index)\n",
    "cancerclass_test=np.delete(cancerclass_test,index)\n",
    "cancertype_test=np.delete(cancertype_test,index)"
   ]
  },
  {
   "cell_type": "code",
   "execution_count": 11,
   "metadata": {},
   "outputs": [
    {
     "name": "stdout",
     "output_type": "stream",
     "text": [
      "1320\n",
      "1320\n",
      "1320\n",
      "1320\n",
      "1320\n"
     ]
    }
   ],
   "source": [
    "print(len(data_test))\n",
    "print(len(filenames_test))\n",
    "print(len(mag_test))\n",
    "print(len(cancerclass_test))\n",
    "print(len(cancertype_test))"
   ]
  },
  {
   "cell_type": "code",
   "execution_count": 12,
   "metadata": {},
   "outputs": [],
   "source": [
    "#Saving Paths\n",
    "save_train_path=\"A:\\\\Projects\\\\Major Project\\\\Extracted CNN Features\\\\VGG19\\\\train\"\n",
    "save_test_path=\"A:\\\\Projects\\\\Major Project\\\\Extracted CNN Features\\\\VGG19\\\\test\""
   ]
  },
  {
   "cell_type": "code",
   "execution_count": 13,
   "metadata": {},
   "outputs": [],
   "source": [
    "data_test=np.array(data_test)\n",
    "filenames_test=np.array(filenames_test)\n",
    "mag_test=np.array(mag_test)\n",
    "cancerclass_test=np.array(cancerclass_test)\n",
    "cancertype_test=np.array(cancertype_test)"
   ]
  },
  {
   "cell_type": "code",
   "execution_count": 14,
   "metadata": {},
   "outputs": [],
   "source": [
    "data_train=np.concatenate((data_train,data_test),axis=0)\n",
    "filenames_train=np.concatenate((filenames_train,filenames_test))\n",
    "mag_train=np.concatenate((mag_train,mag_test))\n",
    "cancerclass_train=np.concatenate((cancerclass_train,cancerclass_test))\n",
    "cancertype_train=np.concatenate((cancertype_train,cancertype_test))"
   ]
  },
  {
   "cell_type": "code",
   "execution_count": 15,
   "metadata": {},
   "outputs": [
    {
     "name": "stdout",
     "output_type": "stream",
     "text": [
      "6320\n",
      "6320\n",
      "6320\n",
      "6320\n",
      "6320\n"
     ]
    }
   ],
   "source": [
    "print(len(data_train))\n",
    "print(len(filenames_train))\n",
    "print(len(mag_train))\n",
    "print(len(cancerclass_train))\n",
    "print(len(cancertype_train))"
   ]
  },
  {
   "cell_type": "code",
   "execution_count": 16,
   "metadata": {},
   "outputs": [],
   "source": [
    "np.save(save_train_path+\"\\\\data_cnn_VGG19_train.npy\",data_train)\n",
    "np.save(save_train_path+\"\\\\data_filenames_VGG19_train.npy\",filenames_train)\n",
    "np.save(save_train_path+\"\\\\data_mag_VGG19_train.npy\",mag_train)\n",
    "np.save(save_train_path+\"\\\\data_cancerclass_VGG19_train.npy\",cancerclass_train)\n",
    "np.save(save_train_path+\"\\\\data_cancertype_VGG19_train.npy\",cancertype_train)"
   ]
  },
  {
   "cell_type": "code",
   "execution_count": 17,
   "metadata": {},
   "outputs": [],
   "source": [
    "np.save(save_test_path+\"\\\\data_cnn_VGG19_test.npy\",new_data_test)\n",
    "np.save(save_test_path+\"\\\\data_filenames_VGG19_test.npy\",new_filenames_test)\n",
    "np.save(save_test_path+\"\\\\data_mag_VGG19_test.npy\",new_mag_test)\n",
    "np.save(save_test_path+\"\\\\data_cancerclass_VGG19_test.npy\",new_cancerclass_test)\n",
    "np.save(save_test_path+\"\\\\data_cancertype_VGG19_test.npy\",new_cancertype_test)"
   ]
  },
  {
   "cell_type": "code",
   "execution_count": null,
   "metadata": {},
   "outputs": [],
   "source": []
  }
 ],
 "metadata": {
  "kernelspec": {
   "display_name": "Python 3",
   "language": "python",
   "name": "python3"
  },
  "language_info": {
   "codemirror_mode": {
    "name": "ipython",
    "version": 3
   },
   "file_extension": ".py",
   "mimetype": "text/x-python",
   "name": "python",
   "nbconvert_exporter": "python",
   "pygments_lexer": "ipython3",
   "version": "3.7.2"
  }
 },
 "nbformat": 4,
 "nbformat_minor": 2
}
